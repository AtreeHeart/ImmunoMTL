{
 "cells": [
  {
   "cell_type": "code",
   "execution_count": 1,
   "id": "3d08dd1b-5f04-47d5-8831-0fcfed65ff93",
   "metadata": {},
   "outputs": [
    {
     "data": {
      "text/plain": [
       "'\\nPython version:       3.10.15 \\npandas version:       2.2.3\\nnumpy version:        1.26.4\\nscikit-learn version: 1.5.1\\nmatplotlib version: 3.9.1\\n'"
      ]
     },
     "execution_count": 1,
     "metadata": {},
     "output_type": "execute_result"
    }
   ],
   "source": [
    "# === Development Environment ===\n",
    "\"\"\"\n",
    "Python version:       3.10.15 \n",
    "pandas version:       2.2.3\n",
    "numpy version:        1.26.4\n",
    "scikit-learn version: 1.5.1\n",
    "matplotlib version: 3.9.1\n",
    "\"\"\""
   ]
  },
  {
   "cell_type": "code",
   "execution_count": 2,
   "id": "b0b9838a-72e0-4c7b-a1bf-42f06d94d1d6",
   "metadata": {},
   "outputs": [],
   "source": [
    "import pandas as pd\n",
    "import sys\n",
    "import numpy as np\n",
    "from sklearn.metrics import roc_auc_score, precision_recall_curve, auc, f1_score, precision_score, accuracy_score\n",
    "from sklearn.utils import resample\n",
    "\n",
    "import numpy as np\n",
    "import pandas as pd\n",
    "import matplotlib.pyplot as plt\n",
    "from math import pi\n",
    "from sklearn.metrics import average_precision_score"
   ]
  },
  {
   "cell_type": "code",
   "execution_count": 4,
   "id": "b85bef6a-5c41-464d-a955-a1c11e930a57",
   "metadata": {},
   "outputs": [
    {
     "ename": "FileNotFoundError",
     "evalue": "[Errno 2] No such file or directory: '../analysis/mRNA_pred.csv'",
     "output_type": "error",
     "traceback": [
      "\u001b[0;31m---------------------------------------------------------------------------\u001b[0m",
      "\u001b[0;31mFileNotFoundError\u001b[0m                         Traceback (most recent call last)",
      "Cell \u001b[0;32mIn[4], line 1\u001b[0m\n\u001b[0;32m----> 1\u001b[0m mRNA_result \u001b[38;5;241m=\u001b[39m \u001b[43mpd\u001b[49m\u001b[38;5;241;43m.\u001b[39;49m\u001b[43mread_csv\u001b[49m\u001b[43m(\u001b[49m\u001b[38;5;124;43m\"\u001b[39;49m\u001b[38;5;124;43m../analysis/mRNA_pred.csv\u001b[39;49m\u001b[38;5;124;43m\"\u001b[39;49m\u001b[43m)\u001b[49m\n\u001b[1;32m      2\u001b[0m mRNA_result\n",
      "File \u001b[0;32m~/anaconda3/envs/ImmunoFlex/lib/python3.10/site-packages/pandas/io/parsers/readers.py:1026\u001b[0m, in \u001b[0;36mread_csv\u001b[0;34m(filepath_or_buffer, sep, delimiter, header, names, index_col, usecols, dtype, engine, converters, true_values, false_values, skipinitialspace, skiprows, skipfooter, nrows, na_values, keep_default_na, na_filter, verbose, skip_blank_lines, parse_dates, infer_datetime_format, keep_date_col, date_parser, date_format, dayfirst, cache_dates, iterator, chunksize, compression, thousands, decimal, lineterminator, quotechar, quoting, doublequote, escapechar, comment, encoding, encoding_errors, dialect, on_bad_lines, delim_whitespace, low_memory, memory_map, float_precision, storage_options, dtype_backend)\u001b[0m\n\u001b[1;32m   1013\u001b[0m kwds_defaults \u001b[38;5;241m=\u001b[39m _refine_defaults_read(\n\u001b[1;32m   1014\u001b[0m     dialect,\n\u001b[1;32m   1015\u001b[0m     delimiter,\n\u001b[0;32m   (...)\u001b[0m\n\u001b[1;32m   1022\u001b[0m     dtype_backend\u001b[38;5;241m=\u001b[39mdtype_backend,\n\u001b[1;32m   1023\u001b[0m )\n\u001b[1;32m   1024\u001b[0m kwds\u001b[38;5;241m.\u001b[39mupdate(kwds_defaults)\n\u001b[0;32m-> 1026\u001b[0m \u001b[38;5;28;01mreturn\u001b[39;00m \u001b[43m_read\u001b[49m\u001b[43m(\u001b[49m\u001b[43mfilepath_or_buffer\u001b[49m\u001b[43m,\u001b[49m\u001b[43m \u001b[49m\u001b[43mkwds\u001b[49m\u001b[43m)\u001b[49m\n",
      "File \u001b[0;32m~/anaconda3/envs/ImmunoFlex/lib/python3.10/site-packages/pandas/io/parsers/readers.py:620\u001b[0m, in \u001b[0;36m_read\u001b[0;34m(filepath_or_buffer, kwds)\u001b[0m\n\u001b[1;32m    617\u001b[0m _validate_names(kwds\u001b[38;5;241m.\u001b[39mget(\u001b[38;5;124m\"\u001b[39m\u001b[38;5;124mnames\u001b[39m\u001b[38;5;124m\"\u001b[39m, \u001b[38;5;28;01mNone\u001b[39;00m))\n\u001b[1;32m    619\u001b[0m \u001b[38;5;66;03m# Create the parser.\u001b[39;00m\n\u001b[0;32m--> 620\u001b[0m parser \u001b[38;5;241m=\u001b[39m \u001b[43mTextFileReader\u001b[49m\u001b[43m(\u001b[49m\u001b[43mfilepath_or_buffer\u001b[49m\u001b[43m,\u001b[49m\u001b[43m \u001b[49m\u001b[38;5;241;43m*\u001b[39;49m\u001b[38;5;241;43m*\u001b[39;49m\u001b[43mkwds\u001b[49m\u001b[43m)\u001b[49m\n\u001b[1;32m    622\u001b[0m \u001b[38;5;28;01mif\u001b[39;00m chunksize \u001b[38;5;129;01mor\u001b[39;00m iterator:\n\u001b[1;32m    623\u001b[0m     \u001b[38;5;28;01mreturn\u001b[39;00m parser\n",
      "File \u001b[0;32m~/anaconda3/envs/ImmunoFlex/lib/python3.10/site-packages/pandas/io/parsers/readers.py:1620\u001b[0m, in \u001b[0;36mTextFileReader.__init__\u001b[0;34m(self, f, engine, **kwds)\u001b[0m\n\u001b[1;32m   1617\u001b[0m     \u001b[38;5;28mself\u001b[39m\u001b[38;5;241m.\u001b[39moptions[\u001b[38;5;124m\"\u001b[39m\u001b[38;5;124mhas_index_names\u001b[39m\u001b[38;5;124m\"\u001b[39m] \u001b[38;5;241m=\u001b[39m kwds[\u001b[38;5;124m\"\u001b[39m\u001b[38;5;124mhas_index_names\u001b[39m\u001b[38;5;124m\"\u001b[39m]\n\u001b[1;32m   1619\u001b[0m \u001b[38;5;28mself\u001b[39m\u001b[38;5;241m.\u001b[39mhandles: IOHandles \u001b[38;5;241m|\u001b[39m \u001b[38;5;28;01mNone\u001b[39;00m \u001b[38;5;241m=\u001b[39m \u001b[38;5;28;01mNone\u001b[39;00m\n\u001b[0;32m-> 1620\u001b[0m \u001b[38;5;28mself\u001b[39m\u001b[38;5;241m.\u001b[39m_engine \u001b[38;5;241m=\u001b[39m \u001b[38;5;28;43mself\u001b[39;49m\u001b[38;5;241;43m.\u001b[39;49m\u001b[43m_make_engine\u001b[49m\u001b[43m(\u001b[49m\u001b[43mf\u001b[49m\u001b[43m,\u001b[49m\u001b[43m \u001b[49m\u001b[38;5;28;43mself\u001b[39;49m\u001b[38;5;241;43m.\u001b[39;49m\u001b[43mengine\u001b[49m\u001b[43m)\u001b[49m\n",
      "File \u001b[0;32m~/anaconda3/envs/ImmunoFlex/lib/python3.10/site-packages/pandas/io/parsers/readers.py:1880\u001b[0m, in \u001b[0;36mTextFileReader._make_engine\u001b[0;34m(self, f, engine)\u001b[0m\n\u001b[1;32m   1878\u001b[0m     \u001b[38;5;28;01mif\u001b[39;00m \u001b[38;5;124m\"\u001b[39m\u001b[38;5;124mb\u001b[39m\u001b[38;5;124m\"\u001b[39m \u001b[38;5;129;01mnot\u001b[39;00m \u001b[38;5;129;01min\u001b[39;00m mode:\n\u001b[1;32m   1879\u001b[0m         mode \u001b[38;5;241m+\u001b[39m\u001b[38;5;241m=\u001b[39m \u001b[38;5;124m\"\u001b[39m\u001b[38;5;124mb\u001b[39m\u001b[38;5;124m\"\u001b[39m\n\u001b[0;32m-> 1880\u001b[0m \u001b[38;5;28mself\u001b[39m\u001b[38;5;241m.\u001b[39mhandles \u001b[38;5;241m=\u001b[39m \u001b[43mget_handle\u001b[49m\u001b[43m(\u001b[49m\n\u001b[1;32m   1881\u001b[0m \u001b[43m    \u001b[49m\u001b[43mf\u001b[49m\u001b[43m,\u001b[49m\n\u001b[1;32m   1882\u001b[0m \u001b[43m    \u001b[49m\u001b[43mmode\u001b[49m\u001b[43m,\u001b[49m\n\u001b[1;32m   1883\u001b[0m \u001b[43m    \u001b[49m\u001b[43mencoding\u001b[49m\u001b[38;5;241;43m=\u001b[39;49m\u001b[38;5;28;43mself\u001b[39;49m\u001b[38;5;241;43m.\u001b[39;49m\u001b[43moptions\u001b[49m\u001b[38;5;241;43m.\u001b[39;49m\u001b[43mget\u001b[49m\u001b[43m(\u001b[49m\u001b[38;5;124;43m\"\u001b[39;49m\u001b[38;5;124;43mencoding\u001b[39;49m\u001b[38;5;124;43m\"\u001b[39;49m\u001b[43m,\u001b[49m\u001b[43m \u001b[49m\u001b[38;5;28;43;01mNone\u001b[39;49;00m\u001b[43m)\u001b[49m\u001b[43m,\u001b[49m\n\u001b[1;32m   1884\u001b[0m \u001b[43m    \u001b[49m\u001b[43mcompression\u001b[49m\u001b[38;5;241;43m=\u001b[39;49m\u001b[38;5;28;43mself\u001b[39;49m\u001b[38;5;241;43m.\u001b[39;49m\u001b[43moptions\u001b[49m\u001b[38;5;241;43m.\u001b[39;49m\u001b[43mget\u001b[49m\u001b[43m(\u001b[49m\u001b[38;5;124;43m\"\u001b[39;49m\u001b[38;5;124;43mcompression\u001b[39;49m\u001b[38;5;124;43m\"\u001b[39;49m\u001b[43m,\u001b[49m\u001b[43m \u001b[49m\u001b[38;5;28;43;01mNone\u001b[39;49;00m\u001b[43m)\u001b[49m\u001b[43m,\u001b[49m\n\u001b[1;32m   1885\u001b[0m \u001b[43m    \u001b[49m\u001b[43mmemory_map\u001b[49m\u001b[38;5;241;43m=\u001b[39;49m\u001b[38;5;28;43mself\u001b[39;49m\u001b[38;5;241;43m.\u001b[39;49m\u001b[43moptions\u001b[49m\u001b[38;5;241;43m.\u001b[39;49m\u001b[43mget\u001b[49m\u001b[43m(\u001b[49m\u001b[38;5;124;43m\"\u001b[39;49m\u001b[38;5;124;43mmemory_map\u001b[39;49m\u001b[38;5;124;43m\"\u001b[39;49m\u001b[43m,\u001b[49m\u001b[43m \u001b[49m\u001b[38;5;28;43;01mFalse\u001b[39;49;00m\u001b[43m)\u001b[49m\u001b[43m,\u001b[49m\n\u001b[1;32m   1886\u001b[0m \u001b[43m    \u001b[49m\u001b[43mis_text\u001b[49m\u001b[38;5;241;43m=\u001b[39;49m\u001b[43mis_text\u001b[49m\u001b[43m,\u001b[49m\n\u001b[1;32m   1887\u001b[0m \u001b[43m    \u001b[49m\u001b[43merrors\u001b[49m\u001b[38;5;241;43m=\u001b[39;49m\u001b[38;5;28;43mself\u001b[39;49m\u001b[38;5;241;43m.\u001b[39;49m\u001b[43moptions\u001b[49m\u001b[38;5;241;43m.\u001b[39;49m\u001b[43mget\u001b[49m\u001b[43m(\u001b[49m\u001b[38;5;124;43m\"\u001b[39;49m\u001b[38;5;124;43mencoding_errors\u001b[39;49m\u001b[38;5;124;43m\"\u001b[39;49m\u001b[43m,\u001b[49m\u001b[43m \u001b[49m\u001b[38;5;124;43m\"\u001b[39;49m\u001b[38;5;124;43mstrict\u001b[39;49m\u001b[38;5;124;43m\"\u001b[39;49m\u001b[43m)\u001b[49m\u001b[43m,\u001b[49m\n\u001b[1;32m   1888\u001b[0m \u001b[43m    \u001b[49m\u001b[43mstorage_options\u001b[49m\u001b[38;5;241;43m=\u001b[39;49m\u001b[38;5;28;43mself\u001b[39;49m\u001b[38;5;241;43m.\u001b[39;49m\u001b[43moptions\u001b[49m\u001b[38;5;241;43m.\u001b[39;49m\u001b[43mget\u001b[49m\u001b[43m(\u001b[49m\u001b[38;5;124;43m\"\u001b[39;49m\u001b[38;5;124;43mstorage_options\u001b[39;49m\u001b[38;5;124;43m\"\u001b[39;49m\u001b[43m,\u001b[49m\u001b[43m \u001b[49m\u001b[38;5;28;43;01mNone\u001b[39;49;00m\u001b[43m)\u001b[49m\u001b[43m,\u001b[49m\n\u001b[1;32m   1889\u001b[0m \u001b[43m\u001b[49m\u001b[43m)\u001b[49m\n\u001b[1;32m   1890\u001b[0m \u001b[38;5;28;01massert\u001b[39;00m \u001b[38;5;28mself\u001b[39m\u001b[38;5;241m.\u001b[39mhandles \u001b[38;5;129;01mis\u001b[39;00m \u001b[38;5;129;01mnot\u001b[39;00m \u001b[38;5;28;01mNone\u001b[39;00m\n\u001b[1;32m   1891\u001b[0m f \u001b[38;5;241m=\u001b[39m \u001b[38;5;28mself\u001b[39m\u001b[38;5;241m.\u001b[39mhandles\u001b[38;5;241m.\u001b[39mhandle\n",
      "File \u001b[0;32m~/anaconda3/envs/ImmunoFlex/lib/python3.10/site-packages/pandas/io/common.py:873\u001b[0m, in \u001b[0;36mget_handle\u001b[0;34m(path_or_buf, mode, encoding, compression, memory_map, is_text, errors, storage_options)\u001b[0m\n\u001b[1;32m    868\u001b[0m \u001b[38;5;28;01melif\u001b[39;00m \u001b[38;5;28misinstance\u001b[39m(handle, \u001b[38;5;28mstr\u001b[39m):\n\u001b[1;32m    869\u001b[0m     \u001b[38;5;66;03m# Check whether the filename is to be opened in binary mode.\u001b[39;00m\n\u001b[1;32m    870\u001b[0m     \u001b[38;5;66;03m# Binary mode does not support 'encoding' and 'newline'.\u001b[39;00m\n\u001b[1;32m    871\u001b[0m     \u001b[38;5;28;01mif\u001b[39;00m ioargs\u001b[38;5;241m.\u001b[39mencoding \u001b[38;5;129;01mand\u001b[39;00m \u001b[38;5;124m\"\u001b[39m\u001b[38;5;124mb\u001b[39m\u001b[38;5;124m\"\u001b[39m \u001b[38;5;129;01mnot\u001b[39;00m \u001b[38;5;129;01min\u001b[39;00m ioargs\u001b[38;5;241m.\u001b[39mmode:\n\u001b[1;32m    872\u001b[0m         \u001b[38;5;66;03m# Encoding\u001b[39;00m\n\u001b[0;32m--> 873\u001b[0m         handle \u001b[38;5;241m=\u001b[39m \u001b[38;5;28;43mopen\u001b[39;49m\u001b[43m(\u001b[49m\n\u001b[1;32m    874\u001b[0m \u001b[43m            \u001b[49m\u001b[43mhandle\u001b[49m\u001b[43m,\u001b[49m\n\u001b[1;32m    875\u001b[0m \u001b[43m            \u001b[49m\u001b[43mioargs\u001b[49m\u001b[38;5;241;43m.\u001b[39;49m\u001b[43mmode\u001b[49m\u001b[43m,\u001b[49m\n\u001b[1;32m    876\u001b[0m \u001b[43m            \u001b[49m\u001b[43mencoding\u001b[49m\u001b[38;5;241;43m=\u001b[39;49m\u001b[43mioargs\u001b[49m\u001b[38;5;241;43m.\u001b[39;49m\u001b[43mencoding\u001b[49m\u001b[43m,\u001b[49m\n\u001b[1;32m    877\u001b[0m \u001b[43m            \u001b[49m\u001b[43merrors\u001b[49m\u001b[38;5;241;43m=\u001b[39;49m\u001b[43merrors\u001b[49m\u001b[43m,\u001b[49m\n\u001b[1;32m    878\u001b[0m \u001b[43m            \u001b[49m\u001b[43mnewline\u001b[49m\u001b[38;5;241;43m=\u001b[39;49m\u001b[38;5;124;43m\"\u001b[39;49m\u001b[38;5;124;43m\"\u001b[39;49m\u001b[43m,\u001b[49m\n\u001b[1;32m    879\u001b[0m \u001b[43m        \u001b[49m\u001b[43m)\u001b[49m\n\u001b[1;32m    880\u001b[0m     \u001b[38;5;28;01melse\u001b[39;00m:\n\u001b[1;32m    881\u001b[0m         \u001b[38;5;66;03m# Binary mode\u001b[39;00m\n\u001b[1;32m    882\u001b[0m         handle \u001b[38;5;241m=\u001b[39m \u001b[38;5;28mopen\u001b[39m(handle, ioargs\u001b[38;5;241m.\u001b[39mmode)\n",
      "\u001b[0;31mFileNotFoundError\u001b[0m: [Errno 2] No such file or directory: '../analysis/mRNA_pred.csv'"
     ]
    }
   ],
   "source": [
    "mRNA_result = pd.read_csv(\"../analysis/mRNA_pred.csv\")\n",
    "mRNA_result"
   ]
  },
  {
   "cell_type": "code",
   "execution_count": null,
   "id": "c4072b57-c808-49a2-bc49-41358d9ab95e",
   "metadata": {},
   "outputs": [],
   "source": [
    "pos_mRNA_result = mRNA_result[mRNA_result[\"Label\"]==1]\n",
    "pos_mRNA_result.groupby(\"patientID\").count()"
   ]
  },
  {
   "cell_type": "code",
   "execution_count": null,
   "id": "8bfcc896-72db-485e-890d-61b7c3a08959",
   "metadata": {},
   "outputs": [],
   "source": [
    "p10 = mRNA_result[mRNA_result[\"patientID\"] == 10]\n",
    "p11 = mRNA_result[mRNA_result[\"patientID\"] == 11]\n",
    "p25 = mRNA_result[mRNA_result[\"patientID\"] == 25]\n",
    "p29 = mRNA_result[mRNA_result[\"patientID\"] == 29]"
   ]
  },
  {
   "cell_type": "code",
   "execution_count": null,
   "id": "520a8b7c-7dc6-43f5-9786-ca54b1608424",
   "metadata": {},
   "outputs": [],
   "source": [
    "#accumulate prism\n",
    "import matplotlib.pyplot as plt\n",
    "prediction_columns = ['ImmunoMTL_score', 'BigMHC_IM', 'munis', 'PRIME_rank', 'netMHCpan_rank']\n",
    "precision_at_k = {column: [] for column in prediction_columns}\n",
    "avg_top_k = {}\n",
    "\n",
    "def calculate_accumulated_precision(df, prediction_columns, k):\n",
    "    #if prediction_columns == 'IMMpred':\n",
    "        #df = df[df[\"EL_rank\"]<2]\n",
    "    #k = len(df[df[\"IMMpred\"] >= 0.5])\n",
    "    #print(k)\n",
    "    precision_at_k_df = pd.DataFrame(index=range(1, k+1))\n",
    "    acc_at_k_df = pd.DataFrame(index=range(1, k+1))\n",
    "    tp_at_k_df = pd.DataFrame(index=range(1, k+1))\n",
    "\n",
    "    for column in prediction_columns:\n",
    "        # Sort the dataframe based on the model's predictions\n",
    "        # Note: We need to sort ranks in ascending order, but scores in descending order\n",
    "        aaaascending = True if 'rank' in column.lower() else False\n",
    "        sorted_df = df.sort_values(by=column, ascending=aaaascending)\n",
    "\n",
    "        # Calculate the accumulated precision at each k\n",
    "        accumulated_precision = []\n",
    "        true_positives = 0\n",
    "        top_k_scores = []\n",
    "        for i in range(k):\n",
    "            if sorted_df.iloc[i]['Label'] == 1:\n",
    "                true_positives += 1\n",
    "            accumulated_precision.append(true_positives / (i+1))\n",
    "            top_k_scores.append(true_positives / (i+1))\n",
    "            \n",
    "        precision_at_k_df[column] = accumulated_precision\n",
    "        # Calculate and store median of top k predictions\n",
    "        avg_top_k[column] = np.mean(top_k_scores)\n",
    "        \n",
    "        accumulated_acc = []\n",
    "        true_positive_negative = 0\n",
    "        for i in range(k):\n",
    "            if sorted_df.iloc[i]['Label'] == sorted_df.iloc[i][column]:\n",
    "                true_positive_negative += 1\n",
    "            accuracy_at_k = true_positive_negative / (i+1)\n",
    "            accumulated_acc.append(accuracy_at_k)\n",
    "        acc_at_k_df[column] = accumulated_precision\n",
    "        \n",
    "        accumulated_tp = []\n",
    "        true_positive = 0\n",
    "        for i in range(k):\n",
    "            if sorted_df.iloc[i]['Label'] == 1:\n",
    "                true_positive += 1\n",
    "            accumulated_tp.append(true_positive)\n",
    "        tp_at_k_df[column] = accumulated_tp\n",
    "\n",
    "    return precision_at_k_df, acc_at_k_df, avg_top_k"
   ]
  },
  {
   "cell_type": "code",
   "execution_count": null,
   "id": "a8fd1462",
   "metadata": {},
   "outputs": [],
   "source": [
    "def count_peptides_until_first_positive(df, prediction_columns):\n",
    "    first_pos_index = {}\n",
    "\n",
    "    for column in prediction_columns:\n",
    "        # Sort predictions: lower is better for ranks, higher is better for scores\n",
    "        ascending = True if 'rank' in column.lower() else False\n",
    "        sorted_df = df.sort_values(by=column, ascending=ascending).reset_index(drop=True)\n",
    "\n",
    "        # Find the index of the first positive label (Label == 1)\n",
    "        first_positive_idx = sorted_df[sorted_df['Label'] == 1].index.min()\n",
    "\n",
    "        # If there's no positive, return NaN\n",
    "        if pd.isna(first_positive_idx):\n",
    "            first_pos_index[column] = np.nan\n",
    "        else:\n",
    "            # Add 1 to make it human-readable (1-based index)\n",
    "            first_pos_index[column] = first_positive_idx + 1\n",
    "\n",
    "    return first_pos_index"
   ]
  },
  {
   "cell_type": "code",
   "execution_count": null,
   "id": "6fd5dc99-c3b9-4ee0-ac55-03b651e500f1",
   "metadata": {},
   "outputs": [],
   "source": [
    "# Number of top predictions to calculate precision for\n",
    "top_k = 10\n",
    "\n",
    "# Calculate the accumulated precision for each model up to top_k\n",
    "precision_at_k_results, acc_at_k_results, avg_top_k = calculate_accumulated_precision(p10, prediction_columns, 10)\n",
    "first_pos_index = count_peptides_until_first_positive(p10, prediction_columns)\n",
    "print(precision_at_k_results)\n",
    "print(avg_top_k)\n",
    "print(acc_at_k_results)\n",
    "print(first_pos_index)\n",
    "# Output the results to a CSV file\n",
    "#precision_at_k_results.to_csv('../analysis/p29_acc.csv', index_label='Top k predictions')\n",
    "precision_at_k_results.to_csv(\"../analysis/mRNA_p10.csv\", index = False)"
   ]
  },
  {
   "cell_type": "code",
   "execution_count": null,
   "id": "b972aebb-8365-4788-bd9f-dfe45b1499e6",
   "metadata": {},
   "outputs": [],
   "source": [
    "# Number of top predictions to calculate precision for\n",
    "top_k = 10\n",
    "\n",
    "# Calculate the accumulated precision for each model up to top_k\n",
    "precision_at_k_results, acc_at_k_results, avg_top_k = calculate_accumulated_precision(p11, prediction_columns, 10)\n",
    "first_pos_index = count_peptides_until_first_positive(p11, prediction_columns)\n",
    "\n",
    "print(precision_at_k_results)\n",
    "print(avg_top_k)\n",
    "print(acc_at_k_results)\n",
    "print(first_pos_index)\n",
    "\n",
    "# Output the results to a CSV file\n",
    "precision_at_k_results.to_csv(\"../analysis/mRNA_p11.csv\", index = False)"
   ]
  },
  {
   "cell_type": "code",
   "execution_count": null,
   "id": "25875d5e-daa6-4045-a623-272c19bed8a1",
   "metadata": {},
   "outputs": [],
   "source": [
    "# Number of top predictions to calculate precision for\n",
    "top_k = 10\n",
    "\n",
    "# Calculate the accumulated precision for each model up to top_k\n",
    "precision_at_k_results, acc_at_k_results, avg_top_k = calculate_accumulated_precision(p25, prediction_columns, 10)\n",
    "first_pos_index = count_peptides_until_first_positive(p25, prediction_columns)\n",
    "\n",
    "print(precision_at_k_results)\n",
    "print(avg_top_k)\n",
    "print(acc_at_k_results)\n",
    "print(first_pos_index)\n",
    "\n",
    "# Output the results to a CSV file\n",
    "#precision_at_k_results.to_csv('../analysis/p29_acc.csv', index_label='Top k predictions')\n",
    "precision_at_k_results.to_csv(\"../analysis/mRNA_p25.csv\", index = False)"
   ]
  },
  {
   "cell_type": "code",
   "execution_count": null,
   "id": "40dc783a-1389-4256-a3ff-c1aa2541754c",
   "metadata": {},
   "outputs": [],
   "source": [
    "# Number of top predictions to calculate precision for\n",
    "top_k = 10\n",
    "\n",
    "# Calculate the accumulated precision for each model up to top_k\n",
    "precision_at_k_results, acc_at_k_results, avg_top_k = calculate_accumulated_precision(p29, prediction_columns, 10)\n",
    "first_pos_index = count_peptides_until_first_positive(p29, prediction_columns)\n",
    "\n",
    "print(precision_at_k_results)\n",
    "print(avg_top_k)\n",
    "print(acc_at_k_results)\n",
    "print(first_pos_index)\n",
    "\n",
    "# Output the results to a CSV file\n",
    "#precision_at_k_results.to_csv('../analysis/p29_acc.csv', index_label='Top k predictions')\n",
    "precision_at_k_results.to_csv(\"../analysis/mRNA_p29.csv\", index = False)"
   ]
  },
  {
   "cell_type": "code",
   "execution_count": null,
   "id": "1aa1ad79-4f91-49f1-b580-1fc56c6adaee",
   "metadata": {},
   "outputs": [],
   "source": []
  },
  {
   "cell_type": "code",
   "execution_count": null,
   "id": "8a4710b3-1594-44a9-962b-0a251b4f551f",
   "metadata": {},
   "outputs": [],
   "source": []
  },
  {
   "cell_type": "code",
   "execution_count": null,
   "id": "72012a35-772b-4a7a-a07d-04cd00060900",
   "metadata": {},
   "outputs": [],
   "source": []
  },
  {
   "cell_type": "code",
   "execution_count": null,
   "id": "4fa0782e-f70c-4009-af68-497e833af076",
   "metadata": {},
   "outputs": [],
   "source": []
  },
  {
   "cell_type": "code",
   "execution_count": null,
   "id": "d7baf615-8e1e-40f8-bd6c-2e61383db6ae",
   "metadata": {},
   "outputs": [],
   "source": []
  }
 ],
 "metadata": {
  "kernelspec": {
   "display_name": "Python 3 (ipykernel)",
   "language": "python",
   "name": "python3"
  },
  "language_info": {
   "codemirror_mode": {
    "name": "ipython",
    "version": 3
   },
   "file_extension": ".py",
   "mimetype": "text/x-python",
   "name": "python",
   "nbconvert_exporter": "python",
   "pygments_lexer": "ipython3",
   "version": "3.10.15"
  }
 },
 "nbformat": 4,
 "nbformat_minor": 5
}
