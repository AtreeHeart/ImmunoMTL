{
 "cells": [
  {
   "cell_type": "code",
   "execution_count": 3,
   "id": "9dd7d8b5",
   "metadata": {},
   "outputs": [],
   "source": [
    "import pandas as pd\n",
    "import sys\n",
    "import numpy as np\n",
    "from sklearn.metrics import roc_auc_score, precision_recall_curve, auc, f1_score, precision_score, accuracy_score\n",
    "from sklearn.utils import resample\n",
    "sys.path.append('../')\n",
    "#from bin.TNevaluate import TNevaluate"
   ]
  },
  {
   "cell_type": "code",
   "execution_count": 9,
   "id": "bfce4ad9",
   "metadata": {},
   "outputs": [
    {
     "name": "stdout",
     "output_type": "stream",
     "text": [
      "<bound method NDFrame.head of       Unnamed: 0         pep          mhc   left  right  Label     score\n",
      "0              0    FLKEKGGL  HLA-B*08:01  GGGGG  GGGGG      1  0.930176\n",
      "1              1   ELRRKMMYM  HLA-B*08:01  GGGGG  GGGGG      1  0.969727\n",
      "2              2   QIKVRVDMV  HLA-B*08:01  GGGGG  GGGGG      1  0.980469\n",
      "3              3   FLRGRAYGL  HLA-B*08:01  GGGGG  GGGGG      1  0.971191\n",
      "4              4   HSKKKCDEL  HLA-B*08:01  GGGGG  GGGGG      1  0.915039\n",
      "...          ...         ...          ...    ...    ...    ...       ...\n",
      "2090        2090  GTGPEAGLPY  HLA-A*01:01  GGGGG  GGGGG      0  0.640137\n",
      "2091        2091  LIDLQELGKY  HLA-A*01:01  GGGGG  GGGGG      0  0.991699\n",
      "2092        2092   YLDAYNMMI  HLA-A*01:01  GGGGG  GGGGG      0  0.821289\n",
      "2093        2093   LTAVITAAY  HLA-A*01:01  GGGGG  GGGGG      0  0.882812\n",
      "2094        2094    HLDVSGTY  HLA-A*01:01  GGGGG  GGGGG      0  0.968750\n",
      "\n",
      "[2095 rows x 7 columns]>\n"
     ]
    },
    {
     "data": {
      "text/html": [
       "<div>\n",
       "<style scoped>\n",
       "    .dataframe tbody tr th:only-of-type {\n",
       "        vertical-align: middle;\n",
       "    }\n",
       "\n",
       "    .dataframe tbody tr th {\n",
       "        vertical-align: top;\n",
       "    }\n",
       "\n",
       "    .dataframe thead th {\n",
       "        text-align: right;\n",
       "    }\n",
       "</style>\n",
       "<table border=\"1\" class=\"dataframe\">\n",
       "  <thead>\n",
       "    <tr style=\"text-align: right;\">\n",
       "      <th></th>\n",
       "      <th>Peptide</th>\n",
       "      <th>MHC</th>\n",
       "      <th>MHC Cluster</th>\n",
       "      <th>Label</th>\n",
       "      <th>Predicted Score</th>\n",
       "      <th>BigMHC_IM</th>\n",
       "    </tr>\n",
       "  </thead>\n",
       "  <tbody>\n",
       "    <tr>\n",
       "      <th>0</th>\n",
       "      <td>FLKEKGGL</td>\n",
       "      <td>HLA-B*08:01</td>\n",
       "      <td>0.0</td>\n",
       "      <td>1</td>\n",
       "      <td>2.225696e-08</td>\n",
       "      <td>0.773415</td>\n",
       "    </tr>\n",
       "    <tr>\n",
       "      <th>1</th>\n",
       "      <td>ELRRKMMYM</td>\n",
       "      <td>HLA-B*08:01</td>\n",
       "      <td>0.0</td>\n",
       "      <td>1</td>\n",
       "      <td>9.999987e-01</td>\n",
       "      <td>0.822511</td>\n",
       "    </tr>\n",
       "    <tr>\n",
       "      <th>2</th>\n",
       "      <td>QIKVRVDMV</td>\n",
       "      <td>HLA-B*08:01</td>\n",
       "      <td>0.0</td>\n",
       "      <td>1</td>\n",
       "      <td>9.999900e-01</td>\n",
       "      <td>0.394727</td>\n",
       "    </tr>\n",
       "    <tr>\n",
       "      <th>3</th>\n",
       "      <td>FLRGRAYGL</td>\n",
       "      <td>HLA-B*08:01</td>\n",
       "      <td>0.0</td>\n",
       "      <td>1</td>\n",
       "      <td>1.000000e+00</td>\n",
       "      <td>0.744466</td>\n",
       "    </tr>\n",
       "    <tr>\n",
       "      <th>4</th>\n",
       "      <td>HSKKKCDEL</td>\n",
       "      <td>HLA-B*08:01</td>\n",
       "      <td>0.0</td>\n",
       "      <td>1</td>\n",
       "      <td>9.999980e-01</td>\n",
       "      <td>0.112132</td>\n",
       "    </tr>\n",
       "    <tr>\n",
       "      <th>...</th>\n",
       "      <td>...</td>\n",
       "      <td>...</td>\n",
       "      <td>...</td>\n",
       "      <td>...</td>\n",
       "      <td>...</td>\n",
       "      <td>...</td>\n",
       "    </tr>\n",
       "    <tr>\n",
       "      <th>2090</th>\n",
       "      <td>GTGPEAGLPY</td>\n",
       "      <td>HLA-A*01:01</td>\n",
       "      <td>3.0</td>\n",
       "      <td>0</td>\n",
       "      <td>8.516496e-01</td>\n",
       "      <td>0.020125</td>\n",
       "    </tr>\n",
       "    <tr>\n",
       "      <th>2091</th>\n",
       "      <td>LIDLQELGKY</td>\n",
       "      <td>HLA-A*01:01</td>\n",
       "      <td>3.0</td>\n",
       "      <td>0</td>\n",
       "      <td>9.986520e-01</td>\n",
       "      <td>0.090488</td>\n",
       "    </tr>\n",
       "    <tr>\n",
       "      <th>2092</th>\n",
       "      <td>YLDAYNMMI</td>\n",
       "      <td>HLA-A*01:01</td>\n",
       "      <td>3.0</td>\n",
       "      <td>0</td>\n",
       "      <td>4.434567e-01</td>\n",
       "      <td>0.025853</td>\n",
       "    </tr>\n",
       "    <tr>\n",
       "      <th>2093</th>\n",
       "      <td>LTAVITAAY</td>\n",
       "      <td>HLA-A*01:01</td>\n",
       "      <td>3.0</td>\n",
       "      <td>0</td>\n",
       "      <td>1.030027e-01</td>\n",
       "      <td>0.020045</td>\n",
       "    </tr>\n",
       "    <tr>\n",
       "      <th>2094</th>\n",
       "      <td>HLDVSGTY</td>\n",
       "      <td>HLA-A*01:01</td>\n",
       "      <td>3.0</td>\n",
       "      <td>0</td>\n",
       "      <td>9.996011e-01</td>\n",
       "      <td>0.108789</td>\n",
       "    </tr>\n",
       "  </tbody>\n",
       "</table>\n",
       "<p>2095 rows × 6 columns</p>\n",
       "</div>"
      ],
      "text/plain": [
       "         Peptide          MHC  MHC Cluster  Label  Predicted Score  BigMHC_IM\n",
       "0       FLKEKGGL  HLA-B*08:01          0.0      1     2.225696e-08   0.773415\n",
       "1      ELRRKMMYM  HLA-B*08:01          0.0      1     9.999987e-01   0.822511\n",
       "2      QIKVRVDMV  HLA-B*08:01          0.0      1     9.999900e-01   0.394727\n",
       "3      FLRGRAYGL  HLA-B*08:01          0.0      1     1.000000e+00   0.744466\n",
       "4      HSKKKCDEL  HLA-B*08:01          0.0      1     9.999980e-01   0.112132\n",
       "...          ...          ...          ...    ...              ...        ...\n",
       "2090  GTGPEAGLPY  HLA-A*01:01          3.0      0     8.516496e-01   0.020125\n",
       "2091  LIDLQELGKY  HLA-A*01:01          3.0      0     9.986520e-01   0.090488\n",
       "2092   YLDAYNMMI  HLA-A*01:01          3.0      0     4.434567e-01   0.025853\n",
       "2093   LTAVITAAY  HLA-A*01:01          3.0      0     1.030027e-01   0.020045\n",
       "2094    HLDVSGTY  HLA-A*01:01          3.0      0     9.996011e-01   0.108789\n",
       "\n",
       "[2095 rows x 6 columns]"
      ]
     },
     "execution_count": 9,
     "metadata": {},
     "output_type": "execute_result"
    }
   ],
   "source": [
    "#Vali pool\n",
    "vali_result = pd.read_csv(\"../pred_results/immunomtl/BenchmarkSet.csv\")\n",
    "vali_result_bigMHC = pd.read_csv(\"../pred_results/bigmhc/BenchmarkSet_bigmhc.csv.prd\")\n",
    "vali_result_minus = pd.read_csv(\"../pred_results/munis/BenchmarkSet_munis_predictions.csv\")\n",
    "print(vali_result_minus.head)\n",
    "vali_result[\"BigMHC_IM\"] = vali_result_bigMHC[\"BigMHC_IM\"]\n",
    "vali_result[\"minus\"] = vali_result_minus[\"score\"]\n",
    "\n",
    "column_order = [\n",
    "    \"Peptide\", \"MHC\", \"MHC Cluster\", \"Label\",\n",
    "    \"Predicted Score\", \"BigMHC_IM\", \"m\"\n",
    "]\n",
    "\n",
    "# Reorder the DataFrame\n",
    "vali_result = vali_result[column_order]\n",
    "\n",
    "# Display the reordered DataFrame\n",
    "vali_result"
   ]
  },
  {
   "cell_type": "code",
   "execution_count": 3,
   "id": "0e13ee6a",
   "metadata": {},
   "outputs": [
    {
     "data": {
      "text/html": [
       "<div>\n",
       "<style scoped>\n",
       "    .dataframe tbody tr th:only-of-type {\n",
       "        vertical-align: middle;\n",
       "    }\n",
       "\n",
       "    .dataframe tbody tr th {\n",
       "        vertical-align: top;\n",
       "    }\n",
       "\n",
       "    .dataframe thead th {\n",
       "        text-align: right;\n",
       "    }\n",
       "</style>\n",
       "<table border=\"1\" class=\"dataframe\">\n",
       "  <thead>\n",
       "    <tr style=\"text-align: right;\">\n",
       "      <th></th>\n",
       "      <th>Peptide</th>\n",
       "      <th>MHC</th>\n",
       "      <th>MHC Cluster</th>\n",
       "      <th>Predicted Score</th>\n",
       "      <th>BigMHC_IM</th>\n",
       "    </tr>\n",
       "    <tr>\n",
       "      <th>Label</th>\n",
       "      <th></th>\n",
       "      <th></th>\n",
       "      <th></th>\n",
       "      <th></th>\n",
       "      <th></th>\n",
       "    </tr>\n",
       "  </thead>\n",
       "  <tbody>\n",
       "    <tr>\n",
       "      <th>0</th>\n",
       "      <td>2048</td>\n",
       "      <td>2048</td>\n",
       "      <td>2048</td>\n",
       "      <td>2048</td>\n",
       "      <td>2048</td>\n",
       "    </tr>\n",
       "    <tr>\n",
       "      <th>1</th>\n",
       "      <td>2132</td>\n",
       "      <td>2132</td>\n",
       "      <td>2132</td>\n",
       "      <td>2132</td>\n",
       "      <td>2132</td>\n",
       "    </tr>\n",
       "  </tbody>\n",
       "</table>\n",
       "</div>"
      ],
      "text/plain": [
       "       Peptide   MHC  MHC Cluster  Predicted Score  BigMHC_IM\n",
       "Label                                                        \n",
       "0         2048  2048         2048             2048       2048\n",
       "1         2132  2132         2132             2132       2132"
      ]
     },
     "execution_count": 3,
     "metadata": {},
     "output_type": "execute_result"
    }
   ],
   "source": [
    "vali_result.groupby(\"Label\").count()"
   ]
  },
  {
   "cell_type": "code",
   "execution_count": 4,
   "id": "5e4b8e57",
   "metadata": {},
   "outputs": [
    {
     "data": {
      "image/png": "[encoded data removed]",
      "text/plain": [
       "<Figure size 720x432 with 1 Axes>"
      ]
     },
     "metadata": {
      "needs_background": "light"
     },
     "output_type": "display_data"
    }
   ],
   "source": [
    "import matplotlib.pyplot as plt\n",
    "\n",
    "# Histogram of predicted scores\n",
    "plt.figure(figsize=(10, 6))\n",
    "plt.hist(vali_result[\"Predicted Score\"], bins=50, color='blue', alpha=0.7, edgecolor='black')\n",
    "plt.title(\"Distribution of Predicted Scores\")\n",
    "plt.xlabel(\"Predicted Score\")\n",
    "plt.ylabel(\"Frequency\")\n",
    "plt.show()"
   ]
  },
  {
   "cell_type": "code",
   "execution_count": 5,
   "id": "1e07c685",
   "metadata": {},
   "outputs": [
    {
     "data": {
      "image/png": "[encoded data removed]",
      "text/plain": [
       "<Figure size 720x432 with 1 Axes>"
      ]
     },
     "metadata": {
      "needs_background": "light"
     },
     "output_type": "display_data"
    }
   ],
   "source": [
    "import matplotlib.pyplot as plt\n",
    "\n",
    "# Histogram of predicted scores\n",
    "plt.figure(figsize=(10, 6))\n",
    "plt.hist(vali_result[\"BigMHC_IM\"], bins=50, color='blue', alpha=0.7, edgecolor='black')\n",
    "plt.title(\"Distribution of Predicted Scores\")\n",
    "plt.xlabel(\"Predicted Score\")\n",
    "plt.ylabel(\"Frequency\")\n",
    "plt.show()"
   ]
  },
  {
   "cell_type": "code",
   "execution_count": 6,
   "id": "f71fd385",
   "metadata": {},
   "outputs": [],
   "source": [
    "# Define a function to calculate AUC-ROC for a given prediction column in a given DataFrame\n",
    "def calculate_auc_roc(df, pred_column):\n",
    "    if 'rank' in pred_column.lower():\n",
    "        # Invert rank values for AUC calculation\n",
    "        pred_values = (100 - df[pred_column])*0.01\n",
    "    else:\n",
    "        pred_values = df[pred_column]\n",
    "    print(roc_auc_score(df['Label'], pred_values))\n",
    "    pass"
   ]
  },
  {
   "cell_type": "code",
   "execution_count": 7,
   "id": "d75bc8e5",
   "metadata": {},
   "outputs": [],
   "source": [
    "# Define a function to calculate AUC-ROC for a given prediction column in a given DataFrame\n",
    "def calculate_auc_prc(df, pred_column):\n",
    "    if 'rank' in pred_column.lower():\n",
    "        # Invert rank values for AUC calculation\n",
    "        pred_values = (100 - df[pred_column])*0.01\n",
    "    else:\n",
    "        pred_values = df[pred_column]\n",
    "\n",
    "    precision, recall, _ = precision_recall_curve(df['Label'], pred_values)\n",
    "    auc_prc = auc(recall, precision)\n",
    "    print(auc_prc)\n",
    "    pass"
   ]
  },
  {
   "cell_type": "code",
   "execution_count": 8,
   "id": "f32d14f7",
   "metadata": {},
   "outputs": [],
   "source": [
    "from sklearn.metrics import average_precision_score\n",
    "\n",
    "# Define a function to calculate Average Precision (AP) for a given prediction column\n",
    "def calculate_average_precision(df, pred_column):\n",
    "    if 'rank' in pred_column.lower():\n",
    "        # Invert rank values for correct scoring\n",
    "        pred_values = (100 - df[pred_column]) * 0.01\n",
    "    else:\n",
    "        pred_values = df[pred_column]\n",
    "\n",
    "    ap = average_precision_score(df['Label'], pred_values)\n",
    "    print(f\"Average Precision (AP): {ap:.4f}\")"
   ]
  },
  {
   "cell_type": "code",
   "execution_count": 9,
   "id": "7bd9b0bf",
   "metadata": {},
   "outputs": [],
   "source": [
    "# Define a function to calculate AUC-ROC for a given prediction column in a given DataFrame\n",
    "def calculate_f1score(df, pred_column):\n",
    "    if 'rank' in pred_column.lower():\n",
    "        # Invert rank values for AUC calculation\n",
    "        pred_values = (100 - df[pred_column])*0.01\n",
    "    else:\n",
    "        pred_values = df[pred_column]\n",
    "\n",
    "    f1_score_ = f1_score(df['Label'], df[pred_column].apply(lambda x: 1 if x > 0.5 else 0))\n",
    "    print(f1_score_)\n",
    "    pass "
   ]
  },
  {
   "cell_type": "code",
   "execution_count": 10,
   "id": "01ff2918",
   "metadata": {},
   "outputs": [
    {
     "name": "stdout",
     "output_type": "stream",
     "text": [
      "AUROC in benchmark dataset\n",
      "0.5958917270681872\n",
      "0.4405677895608584\n"
     ]
    }
   ],
   "source": [
    "print(\"AUROC in benchmark dataset\")\n",
    "calculate_auc_roc(vali_result, \"Predicted Score\")\n",
    "calculate_auc_roc(vali_result, \"BigMHC_IM\")"
   ]
  },
  {
   "cell_type": "code",
   "execution_count": 11,
   "id": "3f675ef8",
   "metadata": {},
   "outputs": [
    {
     "name": "stdout",
     "output_type": "stream",
     "text": [
      "AUPRC in benchmark dataset\n",
      "0.6156799099209465\n",
      "0.4816881984542612\n"
     ]
    }
   ],
   "source": [
    "print(\"AUPRC in benchmark dataset\")\n",
    "calculate_auc_prc(vali_result, \"Predicted Score\")\n",
    "calculate_auc_prc(vali_result, \"BigMHC_IM\")"
   ]
  },
  {
   "cell_type": "code",
   "execution_count": 12,
   "id": "ed6d75e6",
   "metadata": {},
   "outputs": [
    {
     "name": "stdout",
     "output_type": "stream",
     "text": [
      "AP in benchmark dataset\n",
      "Average Precision (AP): 0.5783\n",
      "Average Precision (AP): 0.4821\n"
     ]
    }
   ],
   "source": [
    "print(\"AP in benchmark dataset\")\n",
    "calculate_average_precision(vali_result, \"Predicted Score\")\n",
    "calculate_average_precision(vali_result, \"BigMHC_IM\")"
   ]
  },
  {
   "cell_type": "code",
   "execution_count": 13,
   "id": "dc1b7b5c",
   "metadata": {},
   "outputs": [
    {
     "name": "stdout",
     "output_type": "stream",
     "text": [
      "F1 score in benchmark dataset\n",
      "0.6252386002120891\n",
      "0.29977041653000985\n"
     ]
    }
   ],
   "source": [
    "print(\"F1 score in benchmark dataset\")\n",
    "calculate_f1score(vali_result, \"Predicted Score\")\n",
    "calculate_f1score(vali_result, \"BigMHC_IM\")"
   ]
  },
  {
   "cell_type": "code",
   "execution_count": 14,
   "id": "5cfe6889",
   "metadata": {},
   "outputs": [],
   "source": [
    "from sklearn.metrics import roc_auc_score, precision_recall_curve, auc, f1_score\n",
    "import pandas as pd\n",
    "import numpy as np\n",
    "\n",
    "def bootstrap_metrics(df, pred_column, n_rounds=100, pos_to_neg_ratio=5):\n",
    "    pos_df = df[df[\"Label\"] == 1]\n",
    "    neg_df = df[df[\"Label\"] == 0]\n",
    "\n",
    "    metrics = {\n",
    "        \"AUROC\": [],\n",
    "        \"AUPRC\": [],\n",
    "        \"F1\": []\n",
    "    }\n",
    "\n",
    "    for _ in range(n_rounds):\n",
    "        pos_sample = pos_df.sample(n=len(pos_df), replace=True)\n",
    "        neg_sample = neg_df.sample(n=len(pos_sample) * pos_to_neg_ratio, replace=True)\n",
    "        boot_df = pd.concat([pos_sample, neg_sample]).sample(frac=1).reset_index(drop=True)\n",
    "\n",
    "        preds = boot_df[pred_column]\n",
    "        labels = boot_df[\"Label\"]\n",
    "        bin_preds = preds.apply(lambda x: 1 if x > 0.5 else 0)\n",
    "\n",
    "        # AUROC\n",
    "        try:\n",
    "            metrics[\"AUROC\"].append(roc_auc_score(labels, preds))\n",
    "        except:\n",
    "            metrics[\"AUROC\"].append(np.nan)\n",
    "\n",
    "        # AUPRC\n",
    "        try:\n",
    "            precision, recall, _ = precision_recall_curve(labels, preds)\n",
    "            metrics[\"AUPRC\"].append(auc(recall, precision))\n",
    "        except:\n",
    "            metrics[\"AUPRC\"].append(np.nan)\n",
    "\n",
    "        # F1\n",
    "        try:\n",
    "            metrics[\"F1\"].append(f1_score(labels, bin_preds))\n",
    "        except:\n",
    "            metrics[\"F1\"].append(np.nan)\n",
    "\n",
    "    print(f\"\\n[Bootstrap Results for {pred_column} - {n_rounds} rounds]\")\n",
    "    for k, v in metrics.items():\n",
    "        print(f\"{k}: Mean={np.nanmean(v):.4f}, Std={np.nanstd(v):.4f}\")"
   ]
  },
  {
   "cell_type": "code",
   "execution_count": 15,
   "id": "3ed55ee8",
   "metadata": {},
   "outputs": [
    {
     "name": "stdout",
     "output_type": "stream",
     "text": [
      "\n",
      "[Bootstrap Results for Predicted Score - 100 rounds]\n",
      "AUROC: Mean=0.5953, Std=0.0073\n",
      "AUPRC: Mean=0.2814, Std=0.0070\n",
      "F1: Mean=0.3136, Std=0.0047\n",
      "\n",
      "[Bootstrap Results for BigMHC_IM - 100 rounds]\n",
      "AUROC: Mean=0.4400, Std=0.0083\n",
      "AUPRC: Mean=0.1523, Std=0.0033\n",
      "F1: Mean=0.1831, Std=0.0074\n"
     ]
    }
   ],
   "source": [
    "ratio=5\n",
    "bootstrap_metrics(vali_result, \"Predicted Score\", n_rounds=100, pos_to_neg_ratio=ratio)\n",
    "bootstrap_metrics(vali_result, \"BigMHC_IM\", n_rounds=100, pos_to_neg_ratio=ratio)"
   ]
  },
  {
   "cell_type": "code",
   "execution_count": 1,
   "id": "6d081803",
   "metadata": {},
   "outputs": [
    {
     "ename": "NameError",
     "evalue": "name 'pd' is not defined",
     "output_type": "error",
     "traceback": [
      "\u001b[0;31m---------------------------------------------------------------------------\u001b[0m",
      "\u001b[0;31mNameError\u001b[0m                                 Traceback (most recent call last)",
      "\u001b[0;32m/tmp/ipykernel_36574/1490759277.py\u001b[0m in \u001b[0;36m<module>\u001b[0;34m\u001b[0m\n\u001b[0;32m----> 1\u001b[0;31m \u001b[0mmRNA_result\u001b[0m \u001b[0;34m=\u001b[0m \u001b[0mpd\u001b[0m\u001b[0;34m.\u001b[0m\u001b[0mread_csv\u001b[0m\u001b[0;34m(\u001b[0m\u001b[0;34m\"../pred_results/mRNA_HOTARU.csv\"\u001b[0m\u001b[0;34m)\u001b[0m\u001b[0;34m\u001b[0m\u001b[0;34m\u001b[0m\u001b[0m\n\u001b[0m\u001b[1;32m      2\u001b[0m \u001b[0mmRNA_result_bigMHC\u001b[0m \u001b[0;34m=\u001b[0m \u001b[0mpd\u001b[0m\u001b[0;34m.\u001b[0m\u001b[0mread_csv\u001b[0m\u001b[0;34m(\u001b[0m\u001b[0;34m\"../pred_results/mRNA_HOTARU.csv.prd\"\u001b[0m\u001b[0;34m)\u001b[0m\u001b[0;34m\u001b[0m\u001b[0;34m\u001b[0m\u001b[0m\n\u001b[1;32m      3\u001b[0m \u001b[0mmRNA_result\u001b[0m\u001b[0;34m[\u001b[0m\u001b[0;34m\"BigMHC_IM\"\u001b[0m\u001b[0;34m]\u001b[0m \u001b[0;34m=\u001b[0m \u001b[0mmRNA_result_bigMHC\u001b[0m\u001b[0;34m[\u001b[0m\u001b[0;34m\"BigMHC_IM\"\u001b[0m\u001b[0;34m]\u001b[0m\u001b[0;34m\u001b[0m\u001b[0;34m\u001b[0m\u001b[0m\n\u001b[1;32m      4\u001b[0m \u001b[0;31m#mRNA_result = mRNA_result.drop(columns = \"Peptide\")\u001b[0m\u001b[0;34m\u001b[0m\u001b[0;34m\u001b[0m\u001b[0;34m\u001b[0m\u001b[0m\n\u001b[1;32m      5\u001b[0m \u001b[0;34m\u001b[0m\u001b[0m\n",
      "\u001b[0;31mNameError\u001b[0m: name 'pd' is not defined"
     ]
    }
   ],
   "source": [
    "mRNA_result = pd.read_csv(\"../pred_results/slstm/mRNA_HOTARU.csv\")\n",
    "mRNA_result_bigMHC = pd.read_csv(\"../pred_results/mRNA_HOTARU.csv.prd\")\n",
    "mRNA_result[\"BigMHC_IM\"] = mRNA_result_bigMHC[\"BigMHC_IM\"]\n",
    "#mRNA_result = mRNA_result.drop(columns = \"Peptide\")\n",
    "\n",
    "# Reorder the DataFrame\n",
    "mRNA_result = mRNA_result[column_order]\n",
    "\n",
    "# Display the reordered DataFrame\n",
    "mRNA_result"
   ]
  },
  {
   "cell_type": "code",
   "execution_count": 2,
   "id": "dc11e414",
   "metadata": {},
   "outputs": [
    {
     "ename": "NameError",
     "evalue": "name 'mRNA_result' is not defined",
     "output_type": "error",
     "traceback": [
      "\u001b[0;31m---------------------------------------------------------------------------\u001b[0m",
      "\u001b[0;31mNameError\u001b[0m                                 Traceback (most recent call last)",
      "\u001b[0;32m/tmp/ipykernel_36574/973911689.py\u001b[0m in \u001b[0;36m<module>\u001b[0;34m\u001b[0m\n\u001b[0;32m----> 1\u001b[0;31m \u001b[0mmRNA_result\u001b[0m\u001b[0;34m.\u001b[0m\u001b[0mgroupby\u001b[0m\u001b[0;34m(\u001b[0m\u001b[0;34m\"Label\"\u001b[0m\u001b[0;34m)\u001b[0m\u001b[0;34m.\u001b[0m\u001b[0mcount\u001b[0m\u001b[0;34m(\u001b[0m\u001b[0;34m)\u001b[0m\u001b[0;34m\u001b[0m\u001b[0;34m\u001b[0m\u001b[0m\n\u001b[0m",
      "\u001b[0;31mNameError\u001b[0m: name 'mRNA_result' is not defined"
     ]
    }
   ],
   "source": [
    "mRNA_result.groupby(\"Label\").count()"
   ]
  },
  {
   "cell_type": "code",
   "execution_count": 18,
   "id": "22ea7c91",
   "metadata": {},
   "outputs": [
    {
     "data": {
      "image/png": "[encoded data removed]",
      "text/plain": [
       "<Figure size 720x432 with 1 Axes>"
      ]
     },
     "metadata": {
      "needs_background": "light"
     },
     "output_type": "display_data"
    }
   ],
   "source": [
    "import matplotlib.pyplot as plt\n",
    "\n",
    "# Histogram of predicted scores\n",
    "plt.figure(figsize=(10, 6))\n",
    "plt.hist(mRNA_result[\"Predicted Score\"], bins=50, color='blue', alpha=0.7, edgecolor='black')\n",
    "plt.title(\"Distribution of Predicted Scores\")\n",
    "plt.xlabel(\"Predicted Score\")\n",
    "plt.ylabel(\"Frequency\")\n",
    "plt.show()"
   ]
  },
  {
   "cell_type": "code",
   "execution_count": 19,
   "id": "07b36e65",
   "metadata": {},
   "outputs": [
    {
     "data": {
      "image/png": "[encoded data removed]",
      "text/plain": [
       "<Figure size 720x432 with 1 Axes>"
      ]
     },
     "metadata": {
      "needs_background": "light"
     },
     "output_type": "display_data"
    }
   ],
   "source": [
    "import matplotlib.pyplot as plt\n",
    "\n",
    "# Histogram of predicted scores\n",
    "plt.figure(figsize=(10, 6))\n",
    "plt.hist(mRNA_result[\"BigMHC_IM\"], bins=50, color='blue', alpha=0.7, edgecolor='black')\n",
    "plt.title(\"Distribution of Predicted Scores\")\n",
    "plt.xlabel(\"Predicted Score\")\n",
    "plt.ylabel(\"Frequency\")\n",
    "plt.show()"
   ]
  },
  {
   "cell_type": "code",
   "execution_count": 20,
   "id": "b73a0018",
   "metadata": {},
   "outputs": [
    {
     "name": "stdout",
     "output_type": "stream",
     "text": [
      "AUROC in mRNA\n",
      "0.6010969832959362\n",
      "0.637496883570182\n"
     ]
    }
   ],
   "source": [
    "print(\"AUROC in mRNA\")\n",
    "calculate_auc_roc(mRNA_result, \"Predicted Score\")\n",
    "calculate_auc_roc(mRNA_result, \"BigMHC_IM\")"
   ]
  },
  {
   "cell_type": "code",
   "execution_count": 21,
   "id": "48d7ac09",
   "metadata": {},
   "outputs": [
    {
     "name": "stdout",
     "output_type": "stream",
     "text": [
      "AUPRC in mRNA\n",
      "0.21267632946522064\n",
      "0.13733552487719497\n"
     ]
    }
   ],
   "source": [
    "print(\"AUPRC in mRNA\")\n",
    "calculate_auc_prc(mRNA_result, \"Predicted Score\")\n",
    "calculate_auc_prc(mRNA_result, \"BigMHC_IM\")"
   ]
  },
  {
   "cell_type": "code",
   "execution_count": 22,
   "id": "8194131f",
   "metadata": {},
   "outputs": [
    {
     "name": "stdout",
     "output_type": "stream",
     "text": [
      "AP in benchmark dataset\n",
      "Average Precision (AP): 0.1391\n",
      "Average Precision (AP): 0.1490\n"
     ]
    }
   ],
   "source": [
    "print(\"AP in benchmark dataset\")\n",
    "calculate_average_precision(mRNA_result, \"Predicted Score\")\n",
    "calculate_average_precision(mRNA_result, \"BigMHC_IM\")"
   ]
  },
  {
   "cell_type": "code",
   "execution_count": 23,
   "id": "02b88b26",
   "metadata": {},
   "outputs": [
    {
     "name": "stdout",
     "output_type": "stream",
     "text": [
      "f1 score in mRNA\n",
      "0.21739130434782608\n",
      "0.06666666666666667\n"
     ]
    }
   ],
   "source": [
    "print(\"f1 score in mRNA\")\n",
    "calculate_f1score(mRNA_result, \"Predicted Score\")\n",
    "calculate_f1score(mRNA_result, \"BigMHC_IM\")"
   ]
  },
  {
   "cell_type": "code",
   "execution_count": 24,
   "id": "6c3914f1",
   "metadata": {
    "scrolled": true
   },
   "outputs": [
    {
     "data": {
      "text/html": [
       "<div>\n",
       "<style scoped>\n",
       "    .dataframe tbody tr th:only-of-type {\n",
       "        vertical-align: middle;\n",
       "    }\n",
       "\n",
       "    .dataframe tbody tr th {\n",
       "        vertical-align: top;\n",
       "    }\n",
       "\n",
       "    .dataframe thead th {\n",
       "        text-align: right;\n",
       "    }\n",
       "</style>\n",
       "<table border=\"1\" class=\"dataframe\">\n",
       "  <thead>\n",
       "    <tr style=\"text-align: right;\">\n",
       "      <th></th>\n",
       "      <th>MHC</th>\n",
       "      <th>MHC Cluster</th>\n",
       "      <th>Label</th>\n",
       "      <th>Predicted Score</th>\n",
       "      <th>BigMHC_IM</th>\n",
       "      <th>PatientID</th>\n",
       "    </tr>\n",
       "  </thead>\n",
       "  <tbody>\n",
       "    <tr>\n",
       "      <th>0</th>\n",
       "      <td>HLA-A*32:01</td>\n",
       "      <td>0.0</td>\n",
       "      <td>0</td>\n",
       "      <td>3.525075e-01</td>\n",
       "      <td>0.000514</td>\n",
       "      <td>1</td>\n",
       "    </tr>\n",
       "    <tr>\n",
       "      <th>1</th>\n",
       "      <td>HLA-A*32:01</td>\n",
       "      <td>0.0</td>\n",
       "      <td>0</td>\n",
       "      <td>8.742557e-20</td>\n",
       "      <td>0.006755</td>\n",
       "      <td>5</td>\n",
       "    </tr>\n",
       "    <tr>\n",
       "      <th>2</th>\n",
       "      <td>HLA-A*32:01</td>\n",
       "      <td>0.0</td>\n",
       "      <td>0</td>\n",
       "      <td>9.999381e-01</td>\n",
       "      <td>0.000256</td>\n",
       "      <td>5</td>\n",
       "    </tr>\n",
       "    <tr>\n",
       "      <th>3</th>\n",
       "      <td>HLA-C*17:01</td>\n",
       "      <td>0.0</td>\n",
       "      <td>0</td>\n",
       "      <td>9.837241e-01</td>\n",
       "      <td>0.028055</td>\n",
       "      <td>1</td>\n",
       "    </tr>\n",
       "    <tr>\n",
       "      <th>4</th>\n",
       "      <td>HLA-C*17:01</td>\n",
       "      <td>0.0</td>\n",
       "      <td>1</td>\n",
       "      <td>1.000000e+00</td>\n",
       "      <td>0.100420</td>\n",
       "      <td>25</td>\n",
       "    </tr>\n",
       "    <tr>\n",
       "      <th>...</th>\n",
       "      <td>...</td>\n",
       "      <td>...</td>\n",
       "      <td>...</td>\n",
       "      <td>...</td>\n",
       "      <td>...</td>\n",
       "      <td>...</td>\n",
       "    </tr>\n",
       "    <tr>\n",
       "      <th>209</th>\n",
       "      <td>HLA-C*04:01</td>\n",
       "      <td>3.0</td>\n",
       "      <td>0</td>\n",
       "      <td>2.669488e-01</td>\n",
       "      <td>0.331143</td>\n",
       "      <td>14</td>\n",
       "    </tr>\n",
       "    <tr>\n",
       "      <th>210</th>\n",
       "      <td>HLA-C*04:01</td>\n",
       "      <td>3.0</td>\n",
       "      <td>0</td>\n",
       "      <td>3.021210e-01</td>\n",
       "      <td>0.035441</td>\n",
       "      <td>20</td>\n",
       "    </tr>\n",
       "    <tr>\n",
       "      <th>211</th>\n",
       "      <td>HLA-C*04:01</td>\n",
       "      <td>3.0</td>\n",
       "      <td>0</td>\n",
       "      <td>4.522621e-02</td>\n",
       "      <td>0.140121</td>\n",
       "      <td>20</td>\n",
       "    </tr>\n",
       "    <tr>\n",
       "      <th>212</th>\n",
       "      <td>HLA-C*08:02</td>\n",
       "      <td>3.0</td>\n",
       "      <td>0</td>\n",
       "      <td>1.665458e-05</td>\n",
       "      <td>0.276677</td>\n",
       "      <td>29</td>\n",
       "    </tr>\n",
       "    <tr>\n",
       "      <th>213</th>\n",
       "      <td>HLA-C*08:02</td>\n",
       "      <td>3.0</td>\n",
       "      <td>1</td>\n",
       "      <td>2.522231e-01</td>\n",
       "      <td>0.280507</td>\n",
       "      <td>29</td>\n",
       "    </tr>\n",
       "  </tbody>\n",
       "</table>\n",
       "<p>214 rows × 6 columns</p>\n",
       "</div>"
      ],
      "text/plain": [
       "             MHC  MHC Cluster  Label  Predicted Score  BigMHC_IM  PatientID\n",
       "0    HLA-A*32:01          0.0      0     3.525075e-01   0.000514          1\n",
       "1    HLA-A*32:01          0.0      0     8.742557e-20   0.006755          5\n",
       "2    HLA-A*32:01          0.0      0     9.999381e-01   0.000256          5\n",
       "3    HLA-C*17:01          0.0      0     9.837241e-01   0.028055          1\n",
       "4    HLA-C*17:01          0.0      1     1.000000e+00   0.100420         25\n",
       "..           ...          ...    ...              ...        ...        ...\n",
       "209  HLA-C*04:01          3.0      0     2.669488e-01   0.331143         14\n",
       "210  HLA-C*04:01          3.0      0     3.021210e-01   0.035441         20\n",
       "211  HLA-C*04:01          3.0      0     4.522621e-02   0.140121         20\n",
       "212  HLA-C*08:02          3.0      0     1.665458e-05   0.276677         29\n",
       "213  HLA-C*08:02          3.0      1     2.522231e-01   0.280507         29\n",
       "\n",
       "[214 rows x 6 columns]"
      ]
     },
     "execution_count": 24,
     "metadata": {},
     "output_type": "execute_result"
    }
   ],
   "source": [
    "mRNA_result_pre = pd.read_csv(\"/home/shepherd/Project_malphite/pred_results/mRNA_pred.csv\")\n",
    "mRNA_result_id = pd.merge(mRNA_result, mRNA_result_pre[['Peptide', 'PatientID']], left_on='Peptide', right_on='Peptide', how='left').drop(columns=\"Peptide\")\n",
    "mRNA_result_id"
   ]
  },
  {
   "cell_type": "code",
   "execution_count": 25,
   "id": "c4de65bb",
   "metadata": {},
   "outputs": [
    {
     "data": {
      "text/html": [
       "<div>\n",
       "<style scoped>\n",
       "    .dataframe tbody tr th:only-of-type {\n",
       "        vertical-align: middle;\n",
       "    }\n",
       "\n",
       "    .dataframe tbody tr th {\n",
       "        vertical-align: top;\n",
       "    }\n",
       "\n",
       "    .dataframe thead th {\n",
       "        text-align: right;\n",
       "    }\n",
       "</style>\n",
       "<table border=\"1\" class=\"dataframe\">\n",
       "  <thead>\n",
       "    <tr style=\"text-align: right;\">\n",
       "      <th></th>\n",
       "      <th>MHC</th>\n",
       "      <th>MHC Cluster</th>\n",
       "      <th>Label</th>\n",
       "      <th>Predicted Score</th>\n",
       "      <th>BigMHC_IM</th>\n",
       "    </tr>\n",
       "    <tr>\n",
       "      <th>PatientID</th>\n",
       "      <th></th>\n",
       "      <th></th>\n",
       "      <th></th>\n",
       "      <th></th>\n",
       "      <th></th>\n",
       "    </tr>\n",
       "  </thead>\n",
       "  <tbody>\n",
       "    <tr>\n",
       "      <th>1</th>\n",
       "      <td>7</td>\n",
       "      <td>7</td>\n",
       "      <td>7</td>\n",
       "      <td>7</td>\n",
       "      <td>7</td>\n",
       "    </tr>\n",
       "    <tr>\n",
       "      <th>3</th>\n",
       "      <td>20</td>\n",
       "      <td>20</td>\n",
       "      <td>20</td>\n",
       "      <td>20</td>\n",
       "      <td>20</td>\n",
       "    </tr>\n",
       "    <tr>\n",
       "      <th>4</th>\n",
       "      <td>17</td>\n",
       "      <td>17</td>\n",
       "      <td>17</td>\n",
       "      <td>17</td>\n",
       "      <td>17</td>\n",
       "    </tr>\n",
       "    <tr>\n",
       "      <th>5</th>\n",
       "      <td>15</td>\n",
       "      <td>15</td>\n",
       "      <td>15</td>\n",
       "      <td>15</td>\n",
       "      <td>15</td>\n",
       "    </tr>\n",
       "    <tr>\n",
       "      <th>6</th>\n",
       "      <td>11</td>\n",
       "      <td>11</td>\n",
       "      <td>11</td>\n",
       "      <td>11</td>\n",
       "      <td>11</td>\n",
       "    </tr>\n",
       "    <tr>\n",
       "      <th>9</th>\n",
       "      <td>17</td>\n",
       "      <td>17</td>\n",
       "      <td>17</td>\n",
       "      <td>17</td>\n",
       "      <td>17</td>\n",
       "    </tr>\n",
       "    <tr>\n",
       "      <th>10</th>\n",
       "      <td>13</td>\n",
       "      <td>13</td>\n",
       "      <td>13</td>\n",
       "      <td>13</td>\n",
       "      <td>13</td>\n",
       "    </tr>\n",
       "    <tr>\n",
       "      <th>11</th>\n",
       "      <td>13</td>\n",
       "      <td>13</td>\n",
       "      <td>13</td>\n",
       "      <td>13</td>\n",
       "      <td>13</td>\n",
       "    </tr>\n",
       "    <tr>\n",
       "      <th>14</th>\n",
       "      <td>8</td>\n",
       "      <td>8</td>\n",
       "      <td>8</td>\n",
       "      <td>8</td>\n",
       "      <td>8</td>\n",
       "    </tr>\n",
       "    <tr>\n",
       "      <th>18</th>\n",
       "      <td>10</td>\n",
       "      <td>10</td>\n",
       "      <td>10</td>\n",
       "      <td>10</td>\n",
       "      <td>10</td>\n",
       "    </tr>\n",
       "    <tr>\n",
       "      <th>19</th>\n",
       "      <td>16</td>\n",
       "      <td>16</td>\n",
       "      <td>16</td>\n",
       "      <td>16</td>\n",
       "      <td>16</td>\n",
       "    </tr>\n",
       "    <tr>\n",
       "      <th>20</th>\n",
       "      <td>14</td>\n",
       "      <td>14</td>\n",
       "      <td>14</td>\n",
       "      <td>14</td>\n",
       "      <td>14</td>\n",
       "    </tr>\n",
       "    <tr>\n",
       "      <th>23</th>\n",
       "      <td>9</td>\n",
       "      <td>9</td>\n",
       "      <td>9</td>\n",
       "      <td>9</td>\n",
       "      <td>9</td>\n",
       "    </tr>\n",
       "    <tr>\n",
       "      <th>25</th>\n",
       "      <td>17</td>\n",
       "      <td>17</td>\n",
       "      <td>17</td>\n",
       "      <td>17</td>\n",
       "      <td>17</td>\n",
       "    </tr>\n",
       "    <tr>\n",
       "      <th>28</th>\n",
       "      <td>9</td>\n",
       "      <td>9</td>\n",
       "      <td>9</td>\n",
       "      <td>9</td>\n",
       "      <td>9</td>\n",
       "    </tr>\n",
       "    <tr>\n",
       "      <th>29</th>\n",
       "      <td>18</td>\n",
       "      <td>18</td>\n",
       "      <td>18</td>\n",
       "      <td>18</td>\n",
       "      <td>18</td>\n",
       "    </tr>\n",
       "  </tbody>\n",
       "</table>\n",
       "</div>"
      ],
      "text/plain": [
       "           MHC  MHC Cluster  Label  Predicted Score  BigMHC_IM\n",
       "PatientID                                                     \n",
       "1            7            7      7                7          7\n",
       "3           20           20     20               20         20\n",
       "4           17           17     17               17         17\n",
       "5           15           15     15               15         15\n",
       "6           11           11     11               11         11\n",
       "9           17           17     17               17         17\n",
       "10          13           13     13               13         13\n",
       "11          13           13     13               13         13\n",
       "14           8            8      8                8          8\n",
       "18          10           10     10               10         10\n",
       "19          16           16     16               16         16\n",
       "20          14           14     14               14         14\n",
       "23           9            9      9                9          9\n",
       "25          17           17     17               17         17\n",
       "28           9            9      9                9          9\n",
       "29          18           18     18               18         18"
      ]
     },
     "execution_count": 25,
     "metadata": {},
     "output_type": "execute_result"
    }
   ],
   "source": [
    "mRNA_result_id.groupby(\"PatientID\").count()"
   ]
  },
  {
   "cell_type": "code",
   "execution_count": 26,
   "id": "0482d00a",
   "metadata": {},
   "outputs": [
    {
     "name": "stdout",
     "output_type": "stream",
     "text": [
      "Median PPVn for Patient 25:\n",
      "  Predicted Score: 0.4143\n",
      "  BigMHC_IM: 0.1548\n",
      "Median PPVn for Patient 10:\n",
      "  Predicted Score: 0.5857\n",
      "  BigMHC_IM: 0.5278\n",
      "Median PPVn for Patient 11:\n",
      "  Predicted Score: 0.1548\n",
      "  BigMHC_IM: 0.2111\n",
      "Median PPVn for Patient 29:\n",
      "  Predicted Score: 0.4000\n",
      "  BigMHC_IM: 0.3095\n"
     ]
    }
   ],
   "source": [
    "import pandas as pd\n",
    "import numpy as np\n",
    "\n",
    "# Columns to evaluate predictions\n",
    "prediction_columns = ['Predicted Score', 'BigMHC_IM']\n",
    "good_response_patients = [10,11,25,29]\n",
    "\n",
    "# Function to calculate precision at each n from 1 to k\n",
    "def calculate_precision_at_n(df, prediction_columns, max_k):\n",
    "    ppvn = {column: [] for column in prediction_columns}  # To store PPVn for each column\n",
    "    for column in prediction_columns:\n",
    "        sorted_df = df.sort_values(by=column, ascending=False)  # Always descending for scores\n",
    "        true_positives = 0\n",
    "        # Adjust max_k to the number of rows in the DataFrame\n",
    "        max_n = min(max_k, len(sorted_df))\n",
    "        for n in range(1, max_n + 1):\n",
    "            if sorted_df.iloc[n - 1]['Label'] == 1:\n",
    "                true_positives += 1\n",
    "            ppvn[column].append(true_positives / n)  # Precision at n\n",
    "    return ppvn\n",
    "\n",
    "# Split data by patient\n",
    "subset_df = mRNA_result_id[mRNA_result_id['PatientID'].isin(good_response_patients)]\n",
    "patients = subset_df['PatientID'].unique()\n",
    "max_k = 10\n",
    "median_ppvn_results = {patient: {col: None for col in prediction_columns} for patient in patients}\n",
    "\n",
    "for patient in patients:\n",
    "    patient_data = subset_df[subset_df['PatientID'] == patient]\n",
    "    ppvn = calculate_precision_at_n(patient_data, prediction_columns, max_k)\n",
    "    for column in prediction_columns:\n",
    "        median_ppvn_results[patient][column] = np.median(ppvn[column]) if ppvn[column] else None  # Handle empty lists\n",
    "\n",
    "# Print median PPVn for each patient\n",
    "for patient, medians in median_ppvn_results.items():\n",
    "    print(f\"Median PPVn for Patient {patient}:\")\n",
    "    for column, median in medians.items():\n",
    "        if median is not None:\n",
    "            print(f\"  {column}: {median:.4f}\")\n",
    "        else:\n",
    "            print(f\"  {column}: Not enough data\")"
   ]
  },
  {
   "cell_type": "code",
   "execution_count": 27,
   "id": "6adeab0d",
   "metadata": {},
   "outputs": [],
   "source": [
    "p10 = mRNA_result_id[mRNA_result_id[\"PatientID\"] == 10]\n",
    "p11 = mRNA_result_id[mRNA_result_id[\"PatientID\"] == 11]\n",
    "p25 = mRNA_result_id[mRNA_result_id[\"PatientID\"] == 25]\n",
    "p29 = mRNA_result_id[mRNA_result_id[\"PatientID\"] == 29]"
   ]
  },
  {
   "cell_type": "code",
   "execution_count": 28,
   "id": "b6610c5d",
   "metadata": {},
   "outputs": [
    {
     "name": "stdout",
     "output_type": "stream",
     "text": [
      "['Peptide', 'MHC', 'MHC Cluster', 'Label', 'Predicted Score', 'BigMHC_IM']\n"
     ]
    },
    {
     "data": {
      "text/html": [
       "<div>\n",
       "<style scoped>\n",
       "    .dataframe tbody tr th:only-of-type {\n",
       "        vertical-align: middle;\n",
       "    }\n",
       "\n",
       "    .dataframe tbody tr th {\n",
       "        vertical-align: top;\n",
       "    }\n",
       "\n",
       "    .dataframe thead th {\n",
       "        text-align: right;\n",
       "    }\n",
       "</style>\n",
       "<table border=\"1\" class=\"dataframe\">\n",
       "  <thead>\n",
       "    <tr style=\"text-align: right;\">\n",
       "      <th></th>\n",
       "      <th>Peptide</th>\n",
       "      <th>MHC</th>\n",
       "      <th>MHC Cluster</th>\n",
       "      <th>Label</th>\n",
       "      <th>Predicted Score</th>\n",
       "      <th>BigMHC_IM</th>\n",
       "      <th>IMMpred</th>\n",
       "    </tr>\n",
       "  </thead>\n",
       "  <tbody>\n",
       "    <tr>\n",
       "      <th>0</th>\n",
       "      <td>EEKKRALGL</td>\n",
       "      <td>HLA-B*08:01</td>\n",
       "      <td>0</td>\n",
       "      <td>1</td>\n",
       "      <td>2.694961e-09</td>\n",
       "      <td>0.050376</td>\n",
       "      <td>5.424340e-06</td>\n",
       "    </tr>\n",
       "    <tr>\n",
       "      <th>1</th>\n",
       "      <td>ELQAKVDSM</td>\n",
       "      <td>HLA-B*08:01</td>\n",
       "      <td>0</td>\n",
       "      <td>1</td>\n",
       "      <td>1.738709e-05</td>\n",
       "      <td>0.123474</td>\n",
       "      <td>1.480665e-07</td>\n",
       "    </tr>\n",
       "    <tr>\n",
       "      <th>2</th>\n",
       "      <td>ELQKKQNSF</td>\n",
       "      <td>HLA-B*08:01</td>\n",
       "      <td>0</td>\n",
       "      <td>0</td>\n",
       "      <td>1.000000e+00</td>\n",
       "      <td>0.095129</td>\n",
       "      <td>2.053829e-04</td>\n",
       "    </tr>\n",
       "    <tr>\n",
       "      <th>3</th>\n",
       "      <td>EMKLEARTI</td>\n",
       "      <td>HLA-B*08:01</td>\n",
       "      <td>0</td>\n",
       "      <td>0</td>\n",
       "      <td>1.000000e+00</td>\n",
       "      <td>0.242229</td>\n",
       "      <td>7.430726e-01</td>\n",
       "    </tr>\n",
       "    <tr>\n",
       "      <th>4</th>\n",
       "      <td>ESYIKILNL</td>\n",
       "      <td>HLA-B*08:01</td>\n",
       "      <td>0</td>\n",
       "      <td>0</td>\n",
       "      <td>6.758631e-01</td>\n",
       "      <td>0.041114</td>\n",
       "      <td>9.994818e-01</td>\n",
       "    </tr>\n",
       "    <tr>\n",
       "      <th>...</th>\n",
       "      <td>...</td>\n",
       "      <td>...</td>\n",
       "      <td>...</td>\n",
       "      <td>...</td>\n",
       "      <td>...</td>\n",
       "      <td>...</td>\n",
       "      <td>...</td>\n",
       "    </tr>\n",
       "    <tr>\n",
       "      <th>404</th>\n",
       "      <td>STDTECVEV</td>\n",
       "      <td>HLA-A*01:01</td>\n",
       "      <td>3</td>\n",
       "      <td>0</td>\n",
       "      <td>9.989641e-01</td>\n",
       "      <td>0.092719</td>\n",
       "      <td>9.969103e-01</td>\n",
       "    </tr>\n",
       "    <tr>\n",
       "      <th>405</th>\n",
       "      <td>SVESGSIEY</td>\n",
       "      <td>HLA-A*01:01</td>\n",
       "      <td>3</td>\n",
       "      <td>1</td>\n",
       "      <td>9.946914e-01</td>\n",
       "      <td>0.038429</td>\n",
       "      <td>5.898048e-03</td>\n",
       "    </tr>\n",
       "    <tr>\n",
       "      <th>406</th>\n",
       "      <td>VTAENDFLY</td>\n",
       "      <td>HLA-A*01:01</td>\n",
       "      <td>3</td>\n",
       "      <td>0</td>\n",
       "      <td>2.015251e-09</td>\n",
       "      <td>0.183568</td>\n",
       "      <td>4.558578e-02</td>\n",
       "    </tr>\n",
       "    <tr>\n",
       "      <th>407</th>\n",
       "      <td>WLDPIDSTY</td>\n",
       "      <td>HLA-A*01:01</td>\n",
       "      <td>3</td>\n",
       "      <td>1</td>\n",
       "      <td>9.997065e-01</td>\n",
       "      <td>0.040173</td>\n",
       "      <td>8.515047e-01</td>\n",
       "    </tr>\n",
       "    <tr>\n",
       "      <th>408</th>\n",
       "      <td>YSDQQPAPK</td>\n",
       "      <td>HLA-A*01:01</td>\n",
       "      <td>3</td>\n",
       "      <td>0</td>\n",
       "      <td>5.367383e-01</td>\n",
       "      <td>0.039324</td>\n",
       "      <td>9.995589e-01</td>\n",
       "    </tr>\n",
       "  </tbody>\n",
       "</table>\n",
       "<p>409 rows × 7 columns</p>\n",
       "</div>"
      ],
      "text/plain": [
       "       Peptide          MHC  MHC Cluster  Label  Predicted Score  BigMHC_IM  \\\n",
       "0    EEKKRALGL  HLA-B*08:01            0      1     2.694961e-09   0.050376   \n",
       "1    ELQAKVDSM  HLA-B*08:01            0      1     1.738709e-05   0.123474   \n",
       "2    ELQKKQNSF  HLA-B*08:01            0      0     1.000000e+00   0.095129   \n",
       "3    EMKLEARTI  HLA-B*08:01            0      0     1.000000e+00   0.242229   \n",
       "4    ESYIKILNL  HLA-B*08:01            0      0     6.758631e-01   0.041114   \n",
       "..         ...          ...          ...    ...              ...        ...   \n",
       "404  STDTECVEV  HLA-A*01:01            3      0     9.989641e-01   0.092719   \n",
       "405  SVESGSIEY  HLA-A*01:01            3      1     9.946914e-01   0.038429   \n",
       "406  VTAENDFLY  HLA-A*01:01            3      0     2.015251e-09   0.183568   \n",
       "407  WLDPIDSTY  HLA-A*01:01            3      1     9.997065e-01   0.040173   \n",
       "408  YSDQQPAPK  HLA-A*01:01            3      0     5.367383e-01   0.039324   \n",
       "\n",
       "          IMMpred  \n",
       "0    5.424340e-06  \n",
       "1    1.480665e-07  \n",
       "2    2.053829e-04  \n",
       "3    7.430726e-01  \n",
       "4    9.994818e-01  \n",
       "..            ...  \n",
       "404  9.969103e-01  \n",
       "405  5.898048e-03  \n",
       "406  4.558578e-02  \n",
       "407  8.515047e-01  \n",
       "408  9.995589e-01  \n",
       "\n",
       "[409 rows x 7 columns]"
      ]
     },
     "execution_count": 28,
     "metadata": {},
     "output_type": "execute_result"
    }
   ],
   "source": [
    "cm153_result = pd.read_csv(\"../pred_results/slstm/checkmate153_HOTARU.csv\")\n",
    "cm153_result_bigMHC = pd.read_csv(\"../pred_results/checkmate153_HOTARU.csv.prd\")\n",
    "cm153_result_immpred = pd.read_csv(\"../pred_results/checkmate153_pred_0421_dev_immpred.csv\")\n",
    "cm153_result[\"BigMHC_IM\"] = cm153_result_bigMHC[\"BigMHC_IM\"]\n",
    "cm153_result[\"IMMpred\"] = cm153_result_immpred[\"IMMpred\"]\n",
    "#cm153_result = cm153_result.drop(columns = \"Peptide\")\n",
    "# Reorder the DataFrame\n",
    "print(column_order)\n",
    "#cm153_result = cm153_result[column_order]\n",
    "\n",
    "# Display the reordered DataFrame\n",
    "cm153_result"
   ]
  },
  {
   "cell_type": "code",
   "execution_count": 29,
   "id": "bcaf3955",
   "metadata": {},
   "outputs": [
    {
     "data": {
      "text/html": [
       "<div>\n",
       "<style scoped>\n",
       "    .dataframe tbody tr th:only-of-type {\n",
       "        vertical-align: middle;\n",
       "    }\n",
       "\n",
       "    .dataframe tbody tr th {\n",
       "        vertical-align: top;\n",
       "    }\n",
       "\n",
       "    .dataframe thead th {\n",
       "        text-align: right;\n",
       "    }\n",
       "</style>\n",
       "<table border=\"1\" class=\"dataframe\">\n",
       "  <thead>\n",
       "    <tr style=\"text-align: right;\">\n",
       "      <th></th>\n",
       "      <th>Peptide</th>\n",
       "      <th>MHC</th>\n",
       "      <th>MHC Cluster</th>\n",
       "      <th>Predicted Score</th>\n",
       "      <th>BigMHC_IM</th>\n",
       "      <th>IMMpred</th>\n",
       "    </tr>\n",
       "    <tr>\n",
       "      <th>Label</th>\n",
       "      <th></th>\n",
       "      <th></th>\n",
       "      <th></th>\n",
       "      <th></th>\n",
       "      <th></th>\n",
       "      <th></th>\n",
       "    </tr>\n",
       "  </thead>\n",
       "  <tbody>\n",
       "    <tr>\n",
       "      <th>0</th>\n",
       "      <td>247</td>\n",
       "      <td>247</td>\n",
       "      <td>247</td>\n",
       "      <td>247</td>\n",
       "      <td>247</td>\n",
       "      <td>247</td>\n",
       "    </tr>\n",
       "    <tr>\n",
       "      <th>1</th>\n",
       "      <td>162</td>\n",
       "      <td>162</td>\n",
       "      <td>162</td>\n",
       "      <td>162</td>\n",
       "      <td>162</td>\n",
       "      <td>162</td>\n",
       "    </tr>\n",
       "  </tbody>\n",
       "</table>\n",
       "</div>"
      ],
      "text/plain": [
       "       Peptide  MHC  MHC Cluster  Predicted Score  BigMHC_IM  IMMpred\n",
       "Label                                                                \n",
       "0          247  247          247              247        247      247\n",
       "1          162  162          162              162        162      162"
      ]
     },
     "execution_count": 29,
     "metadata": {},
     "output_type": "execute_result"
    }
   ],
   "source": [
    "cm153_result.groupby(\"Label\").count()"
   ]
  },
  {
   "cell_type": "code",
   "execution_count": 30,
   "id": "dd56e0ce",
   "metadata": {},
   "outputs": [
    {
     "data": {
      "image/png": "[encoded data removed]",
      "text/plain": [
       "<Figure size 720x432 with 1 Axes>"
      ]
     },
     "metadata": {
      "needs_background": "light"
     },
     "output_type": "display_data"
    }
   ],
   "source": [
    "import matplotlib.pyplot as plt\n",
    "\n",
    "# Histogram of predicted scores\n",
    "plt.figure(figsize=(10, 6))\n",
    "plt.hist(cm153_result[\"Predicted Score\"], bins=50, color='blue', alpha=0.7, edgecolor='black')\n",
    "plt.title(\"Distribution of Predicted Scores\")\n",
    "plt.xlabel(\"Predicted Score\")\n",
    "plt.ylabel(\"Frequency\")\n",
    "plt.show()"
   ]
  },
  {
   "cell_type": "code",
   "execution_count": 31,
   "id": "6686c0c0",
   "metadata": {},
   "outputs": [
    {
     "data": {
      "image/png": "[encoded data removed]",
      "text/plain": [
       "<Figure size 720x432 with 1 Axes>"
      ]
     },
     "metadata": {
      "needs_background": "light"
     },
     "output_type": "display_data"
    }
   ],
   "source": [
    "import matplotlib.pyplot as plt\n",
    "\n",
    "# Histogram of predicted scores\n",
    "plt.figure(figsize=(10, 6))\n",
    "plt.hist(cm153_result[\"BigMHC_IM\"], bins=50, color='blue', alpha=0.7, edgecolor='black')\n",
    "plt.title(\"Distribution of Predicted Scores\")\n",
    "plt.xlabel(\"Predicted Score\")\n",
    "plt.ylabel(\"Frequency\")\n",
    "plt.show()"
   ]
  },
  {
   "cell_type": "code",
   "execution_count": 32,
   "id": "d9a0bc0d",
   "metadata": {},
   "outputs": [
    {
     "data": {
      "image/png": "[encoded data removed]",
      "text/plain": [
       "<Figure size 720x432 with 1 Axes>"
      ]
     },
     "metadata": {
      "needs_background": "light"
     },
     "output_type": "display_data"
    }
   ],
   "source": [
    "import matplotlib.pyplot as plt\n",
    "\n",
    "# Histogram of predicted scores\n",
    "plt.figure(figsize=(10, 6))\n",
    "plt.hist(cm153_result[\"IMMpred\"], bins=50, color='blue', alpha=0.7, edgecolor='black')\n",
    "plt.title(\"Distribution of Predicted Scores\")\n",
    "plt.xlabel(\"Predicted Score\")\n",
    "plt.ylabel(\"Frequency\")\n",
    "plt.show()"
   ]
  },
  {
   "cell_type": "code",
   "execution_count": 33,
   "id": "40ee2703",
   "metadata": {},
   "outputs": [
    {
     "data": {
      "text/html": [
       "<div>\n",
       "<style scoped>\n",
       "    .dataframe tbody tr th:only-of-type {\n",
       "        vertical-align: middle;\n",
       "    }\n",
       "\n",
       "    .dataframe tbody tr th {\n",
       "        vertical-align: top;\n",
       "    }\n",
       "\n",
       "    .dataframe thead th {\n",
       "        text-align: right;\n",
       "    }\n",
       "</style>\n",
       "<table border=\"1\" class=\"dataframe\">\n",
       "  <thead>\n",
       "    <tr style=\"text-align: right;\">\n",
       "      <th></th>\n",
       "      <th>Peptide</th>\n",
       "      <th>MHC</th>\n",
       "      <th>MHC Cluster</th>\n",
       "      <th>Label</th>\n",
       "      <th>Predicted Score</th>\n",
       "      <th>BigMHC_IM</th>\n",
       "      <th>IMMpred</th>\n",
       "      <th>pt</th>\n",
       "    </tr>\n",
       "  </thead>\n",
       "  <tbody>\n",
       "    <tr>\n",
       "      <th>0</th>\n",
       "      <td>EEKKRALGL</td>\n",
       "      <td>HLA-B*08:01</td>\n",
       "      <td>0</td>\n",
       "      <td>1</td>\n",
       "      <td>2.694961e-09</td>\n",
       "      <td>0.050376</td>\n",
       "      <td>5.424340e-06</td>\n",
       "      <td>Pt1656</td>\n",
       "    </tr>\n",
       "    <tr>\n",
       "      <th>1</th>\n",
       "      <td>ELQAKVDSM</td>\n",
       "      <td>HLA-B*08:01</td>\n",
       "      <td>0</td>\n",
       "      <td>1</td>\n",
       "      <td>1.738709e-05</td>\n",
       "      <td>0.123474</td>\n",
       "      <td>1.480665e-07</td>\n",
       "      <td>Pt1656</td>\n",
       "    </tr>\n",
       "    <tr>\n",
       "      <th>2</th>\n",
       "      <td>ELQKKQNSF</td>\n",
       "      <td>HLA-B*08:01</td>\n",
       "      <td>0</td>\n",
       "      <td>0</td>\n",
       "      <td>1.000000e+00</td>\n",
       "      <td>0.095129</td>\n",
       "      <td>2.053829e-04</td>\n",
       "      <td>Pt1656</td>\n",
       "    </tr>\n",
       "    <tr>\n",
       "      <th>3</th>\n",
       "      <td>EMKLEARTI</td>\n",
       "      <td>HLA-B*08:01</td>\n",
       "      <td>0</td>\n",
       "      <td>0</td>\n",
       "      <td>1.000000e+00</td>\n",
       "      <td>0.242229</td>\n",
       "      <td>7.430726e-01</td>\n",
       "      <td>Pt1656</td>\n",
       "    </tr>\n",
       "    <tr>\n",
       "      <th>4</th>\n",
       "      <td>ESYIKILNL</td>\n",
       "      <td>HLA-B*08:01</td>\n",
       "      <td>0</td>\n",
       "      <td>0</td>\n",
       "      <td>6.758631e-01</td>\n",
       "      <td>0.041114</td>\n",
       "      <td>9.994818e-01</td>\n",
       "      <td>Pt1656</td>\n",
       "    </tr>\n",
       "    <tr>\n",
       "      <th>...</th>\n",
       "      <td>...</td>\n",
       "      <td>...</td>\n",
       "      <td>...</td>\n",
       "      <td>...</td>\n",
       "      <td>...</td>\n",
       "      <td>...</td>\n",
       "      <td>...</td>\n",
       "      <td>...</td>\n",
       "    </tr>\n",
       "    <tr>\n",
       "      <th>412</th>\n",
       "      <td>STDTECVEV</td>\n",
       "      <td>HLA-A*01:01</td>\n",
       "      <td>3</td>\n",
       "      <td>0</td>\n",
       "      <td>9.989641e-01</td>\n",
       "      <td>0.092719</td>\n",
       "      <td>9.969103e-01</td>\n",
       "      <td>Pt1752</td>\n",
       "    </tr>\n",
       "    <tr>\n",
       "      <th>413</th>\n",
       "      <td>SVESGSIEY</td>\n",
       "      <td>HLA-A*01:01</td>\n",
       "      <td>3</td>\n",
       "      <td>1</td>\n",
       "      <td>9.946914e-01</td>\n",
       "      <td>0.038429</td>\n",
       "      <td>5.898048e-03</td>\n",
       "      <td>Pt1752</td>\n",
       "    </tr>\n",
       "    <tr>\n",
       "      <th>414</th>\n",
       "      <td>VTAENDFLY</td>\n",
       "      <td>HLA-A*01:01</td>\n",
       "      <td>3</td>\n",
       "      <td>0</td>\n",
       "      <td>2.015251e-09</td>\n",
       "      <td>0.183568</td>\n",
       "      <td>4.558578e-02</td>\n",
       "      <td>Pt1752</td>\n",
       "    </tr>\n",
       "    <tr>\n",
       "      <th>415</th>\n",
       "      <td>WLDPIDSTY</td>\n",
       "      <td>HLA-A*01:01</td>\n",
       "      <td>3</td>\n",
       "      <td>1</td>\n",
       "      <td>9.997065e-01</td>\n",
       "      <td>0.040173</td>\n",
       "      <td>8.515047e-01</td>\n",
       "      <td>Pt1752</td>\n",
       "    </tr>\n",
       "    <tr>\n",
       "      <th>416</th>\n",
       "      <td>YSDQQPAPK</td>\n",
       "      <td>HLA-A*01:01</td>\n",
       "      <td>3</td>\n",
       "      <td>0</td>\n",
       "      <td>5.367383e-01</td>\n",
       "      <td>0.039324</td>\n",
       "      <td>9.995589e-01</td>\n",
       "      <td>Pt1752</td>\n",
       "    </tr>\n",
       "  </tbody>\n",
       "</table>\n",
       "<p>417 rows × 8 columns</p>\n",
       "</div>"
      ],
      "text/plain": [
       "       Peptide          MHC  MHC Cluster  Label  Predicted Score  BigMHC_IM  \\\n",
       "0    EEKKRALGL  HLA-B*08:01            0      1     2.694961e-09   0.050376   \n",
       "1    ELQAKVDSM  HLA-B*08:01            0      1     1.738709e-05   0.123474   \n",
       "2    ELQKKQNSF  HLA-B*08:01            0      0     1.000000e+00   0.095129   \n",
       "3    EMKLEARTI  HLA-B*08:01            0      0     1.000000e+00   0.242229   \n",
       "4    ESYIKILNL  HLA-B*08:01            0      0     6.758631e-01   0.041114   \n",
       "..         ...          ...          ...    ...              ...        ...   \n",
       "412  STDTECVEV  HLA-A*01:01            3      0     9.989641e-01   0.092719   \n",
       "413  SVESGSIEY  HLA-A*01:01            3      1     9.946914e-01   0.038429   \n",
       "414  VTAENDFLY  HLA-A*01:01            3      0     2.015251e-09   0.183568   \n",
       "415  WLDPIDSTY  HLA-A*01:01            3      1     9.997065e-01   0.040173   \n",
       "416  YSDQQPAPK  HLA-A*01:01            3      0     5.367383e-01   0.039324   \n",
       "\n",
       "          IMMpred      pt  \n",
       "0    5.424340e-06  Pt1656  \n",
       "1    1.480665e-07  Pt1656  \n",
       "2    2.053829e-04  Pt1656  \n",
       "3    7.430726e-01  Pt1656  \n",
       "4    9.994818e-01  Pt1656  \n",
       "..            ...     ...  \n",
       "412  9.969103e-01  Pt1752  \n",
       "413  5.898048e-03  Pt1752  \n",
       "414  4.558578e-02  Pt1752  \n",
       "415  8.515047e-01  Pt1752  \n",
       "416  9.995589e-01  Pt1752  \n",
       "\n",
       "[417 rows x 8 columns]"
      ]
     },
     "execution_count": 33,
     "metadata": {},
     "output_type": "execute_result"
    }
   ],
   "source": [
    "cm153_result_pre = pd.read_csv(\"/home/shepherd/Project_ImmunoFlex/data/validation/CheckMate153.csv\")\n",
    "cm153_result_id = pd.merge(cm153_result, cm153_result_pre[['pep', 'pt']], left_on='Peptide', right_on='pep', how='left').drop(columns=\"pep\")\n",
    "cm153_result_id"
   ]
  },
  {
   "cell_type": "code",
   "execution_count": 34,
   "id": "30f57f9a",
   "metadata": {},
   "outputs": [
    {
     "name": "stdout",
     "output_type": "stream",
     "text": [
      "AUROC in CheckMate153\n",
      "0.45665267156495226\n",
      "0.5003373819163293\n",
      "0.44914280001999296\n"
     ]
    }
   ],
   "source": [
    "print(\"AUROC in CheckMate153\")\n",
    "calculate_auc_roc(cm153_result, \"Predicted Score\")\n",
    "calculate_auc_roc(cm153_result, \"IMMpred\")\n",
    "calculate_auc_roc(cm153_result, \"BigMHC_IM\")"
   ]
  },
  {
   "cell_type": "code",
   "execution_count": 35,
   "id": "a5f33b0c",
   "metadata": {},
   "outputs": [
    {
     "name": "stdout",
     "output_type": "stream",
     "text": [
      "AUPRC in CheckMate153\n",
      "0.41546335607831797\n",
      "0.44054435137326464\n",
      "0.36469503846338436\n"
     ]
    }
   ],
   "source": [
    "print(\"AUPRC in CheckMate153\")\n",
    "calculate_auc_prc(cm153_result, \"Predicted Score\")\n",
    "calculate_auc_prc(cm153_result, \"IMMpred\")\n",
    "calculate_auc_prc(cm153_result, \"BigMHC_IM\")"
   ]
  },
  {
   "cell_type": "code",
   "execution_count": 36,
   "id": "bc693b73",
   "metadata": {},
   "outputs": [
    {
     "name": "stdout",
     "output_type": "stream",
     "text": [
      "AP in benchmark dataset\n",
      "Average Precision (AP): 0.3704\n",
      "Average Precision (AP): 0.4427\n",
      "Average Precision (AP): 0.3684\n"
     ]
    }
   ],
   "source": [
    "print(\"AP in benchmark dataset\")\n",
    "calculate_average_precision(cm153_result, \"Predicted Score\")\n",
    "calculate_average_precision(cm153_result, \"IMMpred\")\n",
    "calculate_average_precision(cm153_result, \"BigMHC_IM\")"
   ]
  },
  {
   "cell_type": "code",
   "execution_count": 37,
   "id": "0124a5a8",
   "metadata": {},
   "outputs": [
    {
     "name": "stdout",
     "output_type": "stream",
     "text": [
      "F1 score in CheckMate153\n",
      "0.4781609195402299\n",
      "0.36137071651090336\n",
      "0.17085427135678394\n"
     ]
    }
   ],
   "source": [
    "print(\"F1 score in CheckMate153\")\n",
    "calculate_f1score(cm153_result, \"Predicted Score\")\n",
    "calculate_f1score(cm153_result, \"IMMpred\")\n",
    "calculate_f1score(cm153_result, \"BigMHC_IM\")"
   ]
  },
  {
   "cell_type": "code",
   "execution_count": 38,
   "id": "37b51b99",
   "metadata": {},
   "outputs": [
    {
     "name": "stdout",
     "output_type": "stream",
     "text": [
      "Median PPVn for Patient Pt1656:\n",
      "  Predicted Score: 0.6458\n",
      "  BigMHC_IM: 0.2929\n",
      "Median PPVn for Patient Pt1709:\n",
      "  Predicted Score: 0.0000\n",
      "  BigMHC_IM: 0.1833\n",
      "Median PPVn for Patient Pt1683:\n",
      "  Predicted Score: 0.1833\n",
      "  BigMHC_IM: 0.5000\n",
      "Median PPVn for Patient Pt1752:\n",
      "  Predicted Score: 0.3333\n",
      "  BigMHC_IM: 1.0000\n",
      "Median PPVn for Patient Pt1650:\n",
      "  Predicted Score: 0.3875\n",
      "  BigMHC_IM: 0.5778\n",
      "Median PPVn for Patient Pt1616:\n",
      "  Predicted Score: 1.0000\n",
      "  BigMHC_IM: 1.0000\n"
     ]
    }
   ],
   "source": [
    "import pandas as pd\n",
    "import numpy as np\n",
    "\n",
    "# Columns to evaluate predictions\n",
    "prediction_columns = ['Predicted Score', 'BigMHC_IM']\n",
    "good_response_patients = ['Pt1616', 'Pt1650', 'Pt1656', 'Pt1659', 'Pt1678', 'Pt1683', 'Pt1709', 'Pt1721', 'Pt1752']\n",
    "\n",
    "# Function to calculate precision at each n from 1 to k\n",
    "def calculate_precision_at_n(df, prediction_columns, max_k):\n",
    "    ppvn = {column: [] for column in prediction_columns}  # To store PPVn for each column\n",
    "    for column in prediction_columns:\n",
    "        sorted_df = df.sort_values(by=column, ascending=False)  # Always descending for scores\n",
    "        true_positives = 0\n",
    "        # Adjust max_k to the number of rows in the DataFrame\n",
    "        max_n = min(max_k, len(sorted_df))\n",
    "        for n in range(1, max_n + 1):\n",
    "            if sorted_df.iloc[n - 1]['Label'] == 1:\n",
    "                true_positives += 1\n",
    "            ppvn[column].append(true_positives / n)  # Precision at n\n",
    "    return ppvn\n",
    "\n",
    "# Split data by patient\n",
    "subset_df = cm153_result_id[cm153_result_id['pt'].isin(good_response_patients)]\n",
    "patients = subset_df['pt'].unique()\n",
    "max_k = 10\n",
    "median_ppvn_results = {patient: {col: None for col in prediction_columns} for patient in patients}\n",
    "\n",
    "for patient in patients:\n",
    "    patient_data = subset_df[subset_df['pt'] == patient]\n",
    "    ppvn = calculate_precision_at_n(patient_data, prediction_columns, max_k)\n",
    "    for column in prediction_columns:\n",
    "        median_ppvn_results[patient][column] = np.median(ppvn[column]) if ppvn[column] else None  # Handle empty lists\n",
    "\n",
    "# Print median PPVn for each patient\n",
    "for patient, medians in median_ppvn_results.items():\n",
    "    print(f\"Median PPVn for Patient {patient}:\")\n",
    "    for column, median in medians.items():\n",
    "        if median is not None:\n",
    "            print(f\"  {column}: {median:.4f}\")\n",
    "        else:\n",
    "            print(f\"  {column}: Not enough data\")"
   ]
  },
  {
   "cell_type": "code",
   "execution_count": 39,
   "id": "8235d4d6",
   "metadata": {},
   "outputs": [
    {
     "name": "stdout",
     "output_type": "stream",
     "text": [
      "\n",
      "[Bootstrap Results for Predicted Score - 100 rounds]\n",
      "AUROC: Mean=0.4584, Std=0.0285\n",
      "AUPRC: Mean=0.2144, Std=0.0204\n",
      "F1: Mean=0.2550, Std=0.0156\n",
      "\n",
      "[Bootstrap Results for IMMpred - 100 rounds]\n",
      "AUROC: Mean=0.5000, Std=0.0251\n",
      "AUPRC: Mean=0.2088, Std=0.0215\n",
      "F1: Mean=0.2075, Std=0.0216\n",
      "\n",
      "[Bootstrap Results for BigMHC_IM - 100 rounds]\n",
      "AUROC: Mean=0.4455, Std=0.0235\n",
      "AUPRC: Mean=0.1490, Std=0.0084\n",
      "F1: Mean=0.1333, Std=0.0258\n"
     ]
    }
   ],
   "source": [
    "ratio=5\n",
    "bootstrap_metrics(cm153_result, \"Predicted Score\", n_rounds=100, pos_to_neg_ratio=ratio)\n",
    "bootstrap_metrics(cm153_result, \"IMMpred\", n_rounds=100, pos_to_neg_ratio=ratio)\n",
    "bootstrap_metrics(cm153_result, \"BigMHC_IM\", n_rounds=100, pos_to_neg_ratio=ratio)"
   ]
  },
  {
   "cell_type": "code",
   "execution_count": 40,
   "id": "3441c0e3",
   "metadata": {},
   "outputs": [
    {
     "data": {
      "text/html": [
       "<div>\n",
       "<style scoped>\n",
       "    .dataframe tbody tr th:only-of-type {\n",
       "        vertical-align: middle;\n",
       "    }\n",
       "\n",
       "    .dataframe tbody tr th {\n",
       "        vertical-align: top;\n",
       "    }\n",
       "\n",
       "    .dataframe thead th {\n",
       "        text-align: right;\n",
       "    }\n",
       "</style>\n",
       "<table border=\"1\" class=\"dataframe\">\n",
       "  <thead>\n",
       "    <tr style=\"text-align: right;\">\n",
       "      <th></th>\n",
       "      <th>Peptide</th>\n",
       "      <th>MHC</th>\n",
       "      <th>MHC Cluster</th>\n",
       "      <th>Label</th>\n",
       "      <th>Predicted Score</th>\n",
       "      <th>BigMHC_IM</th>\n",
       "    </tr>\n",
       "  </thead>\n",
       "  <tbody>\n",
       "    <tr>\n",
       "      <th>0</th>\n",
       "      <td>NVTSIHSLL</td>\n",
       "      <td>HLA-A*68:02</td>\n",
       "      <td>0</td>\n",
       "      <td>1</td>\n",
       "      <td>1.000000</td>\n",
       "      <td>0.543300</td>\n",
       "    </tr>\n",
       "    <tr>\n",
       "      <th>1</th>\n",
       "      <td>FVYGGSKTSLY</td>\n",
       "      <td>HLA-A*68:02</td>\n",
       "      <td>0</td>\n",
       "      <td>1</td>\n",
       "      <td>0.997795</td>\n",
       "      <td>0.053155</td>\n",
       "    </tr>\n",
       "    <tr>\n",
       "      <th>2</th>\n",
       "      <td>FMIAFISCFA</td>\n",
       "      <td>HLA-A*68:02</td>\n",
       "      <td>0</td>\n",
       "      <td>1</td>\n",
       "      <td>1.000000</td>\n",
       "      <td>0.824022</td>\n",
       "    </tr>\n",
       "    <tr>\n",
       "      <th>3</th>\n",
       "      <td>FMIVSISLV</td>\n",
       "      <td>HLA-A*68:02</td>\n",
       "      <td>0</td>\n",
       "      <td>1</td>\n",
       "      <td>1.000000</td>\n",
       "      <td>0.909684</td>\n",
       "    </tr>\n",
       "    <tr>\n",
       "      <th>4</th>\n",
       "      <td>FVIFACNFV</td>\n",
       "      <td>HLA-A*68:02</td>\n",
       "      <td>0</td>\n",
       "      <td>1</td>\n",
       "      <td>1.000000</td>\n",
       "      <td>0.911936</td>\n",
       "    </tr>\n",
       "    <tr>\n",
       "      <th>...</th>\n",
       "      <td>...</td>\n",
       "      <td>...</td>\n",
       "      <td>...</td>\n",
       "      <td>...</td>\n",
       "      <td>...</td>\n",
       "      <td>...</td>\n",
       "    </tr>\n",
       "    <tr>\n",
       "      <th>1514</th>\n",
       "      <td>RAPISRAQL</td>\n",
       "      <td>HLA-C*01:02</td>\n",
       "      <td>3</td>\n",
       "      <td>0</td>\n",
       "      <td>0.102551</td>\n",
       "      <td>0.075456</td>\n",
       "    </tr>\n",
       "    <tr>\n",
       "      <th>1515</th>\n",
       "      <td>NAPPAYEKL</td>\n",
       "      <td>HLA-C*01:02</td>\n",
       "      <td>3</td>\n",
       "      <td>0</td>\n",
       "      <td>0.002400</td>\n",
       "      <td>0.035951</td>\n",
       "    </tr>\n",
       "    <tr>\n",
       "      <th>1516</th>\n",
       "      <td>NFPGSQKVL</td>\n",
       "      <td>HLA-C*01:02</td>\n",
       "      <td>3</td>\n",
       "      <td>0</td>\n",
       "      <td>0.097311</td>\n",
       "      <td>0.004522</td>\n",
       "    </tr>\n",
       "    <tr>\n",
       "      <th>1517</th>\n",
       "      <td>NLPNIKREL</td>\n",
       "      <td>HLA-C*01:02</td>\n",
       "      <td>3</td>\n",
       "      <td>0</td>\n",
       "      <td>0.990158</td>\n",
       "      <td>0.013520</td>\n",
       "    </tr>\n",
       "    <tr>\n",
       "      <th>1518</th>\n",
       "      <td>ANDPIFVVL</td>\n",
       "      <td>HLA-C*08:02</td>\n",
       "      <td>3</td>\n",
       "      <td>0</td>\n",
       "      <td>0.401853</td>\n",
       "      <td>0.000346</td>\n",
       "    </tr>\n",
       "  </tbody>\n",
       "</table>\n",
       "<p>1519 rows × 6 columns</p>\n",
       "</div>"
      ],
      "text/plain": [
       "          Peptide          MHC  MHC Cluster  Label  Predicted Score  BigMHC_IM\n",
       "0       NVTSIHSLL  HLA-A*68:02            0      1         1.000000   0.543300\n",
       "1     FVYGGSKTSLY  HLA-A*68:02            0      1         0.997795   0.053155\n",
       "2      FMIAFISCFA  HLA-A*68:02            0      1         1.000000   0.824022\n",
       "3       FMIVSISLV  HLA-A*68:02            0      1         1.000000   0.909684\n",
       "4       FVIFACNFV  HLA-A*68:02            0      1         1.000000   0.911936\n",
       "...           ...          ...          ...    ...              ...        ...\n",
       "1514    RAPISRAQL  HLA-C*01:02            3      0         0.102551   0.075456\n",
       "1515    NAPPAYEKL  HLA-C*01:02            3      0         0.002400   0.035951\n",
       "1516    NFPGSQKVL  HLA-C*01:02            3      0         0.097311   0.004522\n",
       "1517    NLPNIKREL  HLA-C*01:02            3      0         0.990158   0.013520\n",
       "1518    ANDPIFVVL  HLA-C*08:02            3      0         0.401853   0.000346\n",
       "\n",
       "[1519 rows x 6 columns]"
      ]
     },
     "execution_count": 40,
     "metadata": {},
     "output_type": "execute_result"
    }
   ],
   "source": [
    "#Vali pool\n",
    "zeroshot_result = pd.read_csv(\"../pred_results/slstm/zeroshot_highconf_HOTARU.csv\")\n",
    "zeroshot_result_bigMHC = pd.read_csv(\"../pred_results/zeroshot_highconf_HOTARU.csv.prd\")\n",
    "zeroshot_result[\"BigMHC_IM\"] = zeroshot_result_bigMHC[\"BigMHC_IM\"]\n",
    "\n",
    "# Reorder the DataFrame\n",
    "#zeroshot_result = zeroshot_result[column_order]\n",
    "\n",
    "# Display the reordered DataFrame\n",
    "zeroshot_result"
   ]
  },
  {
   "cell_type": "code",
   "execution_count": 41,
   "id": "2ee601e5",
   "metadata": {},
   "outputs": [
    {
     "data": {
      "text/html": [
       "<div>\n",
       "<style scoped>\n",
       "    .dataframe tbody tr th:only-of-type {\n",
       "        vertical-align: middle;\n",
       "    }\n",
       "\n",
       "    .dataframe tbody tr th {\n",
       "        vertical-align: top;\n",
       "    }\n",
       "\n",
       "    .dataframe thead th {\n",
       "        text-align: right;\n",
       "    }\n",
       "</style>\n",
       "<table border=\"1\" class=\"dataframe\">\n",
       "  <thead>\n",
       "    <tr style=\"text-align: right;\">\n",
       "      <th></th>\n",
       "      <th>Peptide</th>\n",
       "      <th>MHC</th>\n",
       "      <th>MHC Cluster</th>\n",
       "      <th>Predicted Score</th>\n",
       "      <th>BigMHC_IM</th>\n",
       "    </tr>\n",
       "    <tr>\n",
       "      <th>Label</th>\n",
       "      <th></th>\n",
       "      <th></th>\n",
       "      <th></th>\n",
       "      <th></th>\n",
       "      <th></th>\n",
       "    </tr>\n",
       "  </thead>\n",
       "  <tbody>\n",
       "    <tr>\n",
       "      <th>0</th>\n",
       "      <td>1253</td>\n",
       "      <td>1253</td>\n",
       "      <td>1253</td>\n",
       "      <td>1253</td>\n",
       "      <td>1253</td>\n",
       "    </tr>\n",
       "    <tr>\n",
       "      <th>1</th>\n",
       "      <td>266</td>\n",
       "      <td>266</td>\n",
       "      <td>266</td>\n",
       "      <td>266</td>\n",
       "      <td>266</td>\n",
       "    </tr>\n",
       "  </tbody>\n",
       "</table>\n",
       "</div>"
      ],
      "text/plain": [
       "       Peptide   MHC  MHC Cluster  Predicted Score  BigMHC_IM\n",
       "Label                                                        \n",
       "0         1253  1253         1253             1253       1253\n",
       "1          266   266          266              266        266"
      ]
     },
     "execution_count": 41,
     "metadata": {},
     "output_type": "execute_result"
    }
   ],
   "source": [
    "zeroshot_result.groupby(\"Label\").count()"
   ]
  },
  {
   "cell_type": "code",
   "execution_count": 42,
   "id": "4a33a58d",
   "metadata": {},
   "outputs": [
    {
     "data": {
      "image/png": "[encoded data removed]",
      "text/plain": [
       "<Figure size 720x432 with 1 Axes>"
      ]
     },
     "metadata": {
      "needs_background": "light"
     },
     "output_type": "display_data"
    }
   ],
   "source": [
    "import matplotlib.pyplot as plt\n",
    "\n",
    "# Histogram of predicted scores\n",
    "plt.figure(figsize=(10, 6))\n",
    "plt.hist(zeroshot_result[\"Predicted Score\"], bins=50, color='blue', alpha=0.7, edgecolor='black')\n",
    "plt.title(\"Distribution of Predicted Scores\")\n",
    "plt.xlabel(\"Predicted Score\")\n",
    "plt.ylabel(\"Frequency\")\n",
    "plt.show()"
   ]
  },
  {
   "cell_type": "code",
   "execution_count": 43,
   "id": "cfad4fcf",
   "metadata": {},
   "outputs": [
    {
     "data": {
      "image/png": "[encoded data removed]",
      "text/plain": [
       "<Figure size 720x432 with 1 Axes>"
      ]
     },
     "metadata": {
      "needs_background": "light"
     },
     "output_type": "display_data"
    }
   ],
   "source": [
    "import matplotlib.pyplot as plt\n",
    "\n",
    "# Histogram of predicted scores\n",
    "plt.figure(figsize=(10, 6))\n",
    "plt.hist(zeroshot_result[\"BigMHC_IM\"], bins=50, color='blue', alpha=0.7, edgecolor='black')\n",
    "plt.title(\"Distribution of BigMHC\")\n",
    "plt.xlabel(\"Predicted Score\")\n",
    "plt.ylabel(\"Frequency\")\n",
    "plt.show()"
   ]
  },
  {
   "cell_type": "code",
   "execution_count": 44,
   "id": "13967716",
   "metadata": {},
   "outputs": [
    {
     "name": "stdout",
     "output_type": "stream",
     "text": [
      "AUROC in zeroshot\n",
      "0.7063423722914628\n",
      "0.5397842171270154\n"
     ]
    }
   ],
   "source": [
    "print(\"AUROC in zeroshot\")\n",
    "calculate_auc_roc(zeroshot_result, \"Predicted Score\")\n",
    "calculate_auc_roc(zeroshot_result, \"BigMHC_IM\")"
   ]
  },
  {
   "cell_type": "code",
   "execution_count": 45,
   "id": "b4bb2c5b",
   "metadata": {},
   "outputs": [
    {
     "name": "stdout",
     "output_type": "stream",
     "text": [
      "AUPRC in zeroshot\n",
      "0.45238267339828464\n",
      "0.25364586359359714\n"
     ]
    }
   ],
   "source": [
    "print(\"AUPRC in zeroshot\")\n",
    "calculate_auc_prc(zeroshot_result, \"Predicted Score\")\n",
    "calculate_auc_prc(zeroshot_result, \"BigMHC_IM\")"
   ]
  },
  {
   "cell_type": "code",
   "execution_count": 46,
   "id": "599b3f0a",
   "metadata": {},
   "outputs": [
    {
     "name": "stdout",
     "output_type": "stream",
     "text": [
      "AP in zeroshot\n",
      "Average Precision (AP): 0.3104\n",
      "Average Precision (AP): 0.2563\n"
     ]
    }
   ],
   "source": [
    "print(\"AP in zeroshot\")\n",
    "calculate_average_precision(zeroshot_result, \"Predicted Score\")\n",
    "calculate_average_precision(zeroshot_result, \"BigMHC_IM\")"
   ]
  },
  {
   "cell_type": "code",
   "execution_count": 47,
   "id": "7c51b33d",
   "metadata": {},
   "outputs": [
    {
     "name": "stdout",
     "output_type": "stream",
     "text": [
      "F1 score in zeroshot\n",
      "0.35303146584804296\n",
      "0.20183486238532108\n"
     ]
    }
   ],
   "source": [
    "print(\"F1 score in zeroshot\")\n",
    "calculate_f1score(zeroshot_result, \"Predicted Score\")\n",
    "calculate_f1score(zeroshot_result, \"BigMHC_IM\")"
   ]
  },
  {
   "cell_type": "code",
   "execution_count": null,
   "id": "66ee0084",
   "metadata": {},
   "outputs": [],
   "source": []
  },
  {
   "cell_type": "code",
   "execution_count": 48,
   "id": "242e5f0f",
   "metadata": {},
   "outputs": [
    {
     "data": {
      "text/html": [
       "<div>\n",
       "<style scoped>\n",
       "    .dataframe tbody tr th:only-of-type {\n",
       "        vertical-align: middle;\n",
       "    }\n",
       "\n",
       "    .dataframe tbody tr th {\n",
       "        vertical-align: top;\n",
       "    }\n",
       "\n",
       "    .dataframe thead th {\n",
       "        text-align: right;\n",
       "    }\n",
       "</style>\n",
       "<table border=\"1\" class=\"dataframe\">\n",
       "  <thead>\n",
       "    <tr style=\"text-align: right;\">\n",
       "      <th></th>\n",
       "      <th>Peptide</th>\n",
       "      <th>MHC</th>\n",
       "      <th>MHC Cluster</th>\n",
       "      <th>Label</th>\n",
       "      <th>Predicted Score</th>\n",
       "      <th>BigMHC_IM</th>\n",
       "    </tr>\n",
       "  </thead>\n",
       "  <tbody>\n",
       "    <tr>\n",
       "      <th>0</th>\n",
       "      <td>RAKFKQLL</td>\n",
       "      <td>HLA-B*08:01</td>\n",
       "      <td>0.0</td>\n",
       "      <td>1</td>\n",
       "      <td>1.000000e+00</td>\n",
       "      <td>0.886764</td>\n",
       "    </tr>\n",
       "    <tr>\n",
       "      <th>1</th>\n",
       "      <td>FVYGGSKTSLY</td>\n",
       "      <td>HLA-B*15:01</td>\n",
       "      <td>0.0</td>\n",
       "      <td>1</td>\n",
       "      <td>9.999998e-01</td>\n",
       "      <td>0.091551</td>\n",
       "    </tr>\n",
       "    <tr>\n",
       "      <th>2</th>\n",
       "      <td>IACPIVMRY</td>\n",
       "      <td>HLA-B*15:01</td>\n",
       "      <td>0.0</td>\n",
       "      <td>1</td>\n",
       "      <td>6.426769e-02</td>\n",
       "      <td>0.111028</td>\n",
       "    </tr>\n",
       "    <tr>\n",
       "      <th>3</th>\n",
       "      <td>SQISNTEMY</td>\n",
       "      <td>HLA-B*15:01</td>\n",
       "      <td>0.0</td>\n",
       "      <td>1</td>\n",
       "      <td>9.782462e-09</td>\n",
       "      <td>0.174619</td>\n",
       "    </tr>\n",
       "    <tr>\n",
       "      <th>4</th>\n",
       "      <td>AQVKQASV</td>\n",
       "      <td>HLA-B*52:01</td>\n",
       "      <td>0.0</td>\n",
       "      <td>0</td>\n",
       "      <td>1.415217e-21</td>\n",
       "      <td>0.775585</td>\n",
       "    </tr>\n",
       "    <tr>\n",
       "      <th>...</th>\n",
       "      <td>...</td>\n",
       "      <td>...</td>\n",
       "      <td>...</td>\n",
       "      <td>...</td>\n",
       "      <td>...</td>\n",
       "      <td>...</td>\n",
       "    </tr>\n",
       "    <tr>\n",
       "      <th>358</th>\n",
       "      <td>QLDALGYTL</td>\n",
       "      <td>HLA-C*08:02</td>\n",
       "      <td>3.0</td>\n",
       "      <td>0</td>\n",
       "      <td>9.998807e-01</td>\n",
       "      <td>0.127703</td>\n",
       "    </tr>\n",
       "    <tr>\n",
       "      <th>359</th>\n",
       "      <td>RIEDPPFNSL</td>\n",
       "      <td>HLA-C*08:02</td>\n",
       "      <td>3.0</td>\n",
       "      <td>0</td>\n",
       "      <td>1.000000e+00</td>\n",
       "      <td>0.086604</td>\n",
       "    </tr>\n",
       "    <tr>\n",
       "      <th>360</th>\n",
       "      <td>YTDHQTTPTF</td>\n",
       "      <td>HLA-C*08:02</td>\n",
       "      <td>3.0</td>\n",
       "      <td>0</td>\n",
       "      <td>6.345971e-01</td>\n",
       "      <td>0.092897</td>\n",
       "    </tr>\n",
       "    <tr>\n",
       "      <th>361</th>\n",
       "      <td>YVLDHLIVV</td>\n",
       "      <td>HLA-C*08:02</td>\n",
       "      <td>3.0</td>\n",
       "      <td>0</td>\n",
       "      <td>9.997161e-01</td>\n",
       "      <td>0.125125</td>\n",
       "    </tr>\n",
       "    <tr>\n",
       "      <th>362</th>\n",
       "      <td>IEDPPFNSL</td>\n",
       "      <td>HLA-C*08:02</td>\n",
       "      <td>3.0</td>\n",
       "      <td>0</td>\n",
       "      <td>9.999811e-01</td>\n",
       "      <td>0.226089</td>\n",
       "    </tr>\n",
       "  </tbody>\n",
       "</table>\n",
       "<p>363 rows × 6 columns</p>\n",
       "</div>"
      ],
      "text/plain": [
       "         Peptide          MHC  MHC Cluster  Label  Predicted Score  BigMHC_IM\n",
       "0       RAKFKQLL  HLA-B*08:01          0.0      1     1.000000e+00   0.886764\n",
       "1    FVYGGSKTSLY  HLA-B*15:01          0.0      1     9.999998e-01   0.091551\n",
       "2      IACPIVMRY  HLA-B*15:01          0.0      1     6.426769e-02   0.111028\n",
       "3      SQISNTEMY  HLA-B*15:01          0.0      1     9.782462e-09   0.174619\n",
       "4       AQVKQASV  HLA-B*52:01          0.0      0     1.415217e-21   0.775585\n",
       "..           ...          ...          ...    ...              ...        ...\n",
       "358    QLDALGYTL  HLA-C*08:02          3.0      0     9.998807e-01   0.127703\n",
       "359   RIEDPPFNSL  HLA-C*08:02          3.0      0     1.000000e+00   0.086604\n",
       "360   YTDHQTTPTF  HLA-C*08:02          3.0      0     6.345971e-01   0.092897\n",
       "361    YVLDHLIVV  HLA-C*08:02          3.0      0     9.997161e-01   0.125125\n",
       "362    IEDPPFNSL  HLA-C*08:02          3.0      0     9.999811e-01   0.226089\n",
       "\n",
       "[363 rows x 6 columns]"
      ]
     },
     "execution_count": 48,
     "metadata": {},
     "output_type": "execute_result"
    }
   ],
   "source": [
    "#Vali pool\n",
    "ebv_result = pd.read_csv(\"../pred_results/slstm/ebv_HOTARU.csv\")\n",
    "ebv_result_bigMHC = pd.read_csv(\"../pred_results/ebv_HOTARU.csv.prd\")\n",
    "ebv_result[\"BigMHC_IM\"] = ebv_result_bigMHC[\"BigMHC_IM\"]\n",
    "\n",
    "# Reorder the DataFrame\n",
    "ebv_result = ebv_result[column_order]\n",
    "\n",
    "# Display the reordered DataFrame\n",
    "ebv_result"
   ]
  },
  {
   "cell_type": "code",
   "execution_count": 49,
   "id": "20d5988e",
   "metadata": {},
   "outputs": [
    {
     "data": {
      "text/html": [
       "<div>\n",
       "<style scoped>\n",
       "    .dataframe tbody tr th:only-of-type {\n",
       "        vertical-align: middle;\n",
       "    }\n",
       "\n",
       "    .dataframe tbody tr th {\n",
       "        vertical-align: top;\n",
       "    }\n",
       "\n",
       "    .dataframe thead th {\n",
       "        text-align: right;\n",
       "    }\n",
       "</style>\n",
       "<table border=\"1\" class=\"dataframe\">\n",
       "  <thead>\n",
       "    <tr style=\"text-align: right;\">\n",
       "      <th></th>\n",
       "      <th>Peptide</th>\n",
       "      <th>MHC</th>\n",
       "      <th>MHC Cluster</th>\n",
       "      <th>Predicted Score</th>\n",
       "      <th>BigMHC_IM</th>\n",
       "    </tr>\n",
       "    <tr>\n",
       "      <th>Label</th>\n",
       "      <th></th>\n",
       "      <th></th>\n",
       "      <th></th>\n",
       "      <th></th>\n",
       "      <th></th>\n",
       "    </tr>\n",
       "  </thead>\n",
       "  <tbody>\n",
       "    <tr>\n",
       "      <th>0</th>\n",
       "      <td>336</td>\n",
       "      <td>336</td>\n",
       "      <td>336</td>\n",
       "      <td>336</td>\n",
       "      <td>336</td>\n",
       "    </tr>\n",
       "    <tr>\n",
       "      <th>1</th>\n",
       "      <td>27</td>\n",
       "      <td>27</td>\n",
       "      <td>27</td>\n",
       "      <td>27</td>\n",
       "      <td>27</td>\n",
       "    </tr>\n",
       "  </tbody>\n",
       "</table>\n",
       "</div>"
      ],
      "text/plain": [
       "       Peptide  MHC  MHC Cluster  Predicted Score  BigMHC_IM\n",
       "Label                                                       \n",
       "0          336  336          336              336        336\n",
       "1           27   27           27               27         27"
      ]
     },
     "execution_count": 49,
     "metadata": {},
     "output_type": "execute_result"
    }
   ],
   "source": [
    "ebv_result.groupby(\"Label\").count()"
   ]
  },
  {
   "cell_type": "code",
   "execution_count": 50,
   "id": "94c60eef",
   "metadata": {},
   "outputs": [
    {
     "data": {
      "image/png": "[encoded data removed]",
      "text/plain": [
       "<Figure size 720x432 with 1 Axes>"
      ]
     },
     "metadata": {
      "needs_background": "light"
     },
     "output_type": "display_data"
    }
   ],
   "source": [
    "import matplotlib.pyplot as plt\n",
    "\n",
    "# Histogram of predicted scores\n",
    "plt.figure(figsize=(10, 6))\n",
    "plt.hist(ebv_result[\"Predicted Score\"], bins=50, color='blue', alpha=0.7, edgecolor='black')\n",
    "plt.title(\"Distribution of Predicted Scores\")\n",
    "plt.xlabel(\"Predicted Score\")\n",
    "plt.ylabel(\"Frequency\")\n",
    "plt.show()"
   ]
  },
  {
   "cell_type": "code",
   "execution_count": 51,
   "id": "64fb6e95",
   "metadata": {},
   "outputs": [
    {
     "data": {
      "image/png": "[encoded data removed]",
      "text/plain": [
       "<Figure size 720x432 with 1 Axes>"
      ]
     },
     "metadata": {
      "needs_background": "light"
     },
     "output_type": "display_data"
    }
   ],
   "source": [
    "import matplotlib.pyplot as plt\n",
    "\n",
    "# Histogram of predicted scores\n",
    "plt.figure(figsize=(10, 6))\n",
    "plt.hist(ebv_result[\"BigMHC_IM\"], bins=50, color='blue', alpha=0.7, edgecolor='black')\n",
    "plt.title(\"Distribution of BigMHC\")\n",
    "plt.xlabel(\"Predicted Score\")\n",
    "plt.ylabel(\"Frequency\")\n",
    "plt.show()"
   ]
  },
  {
   "cell_type": "code",
   "execution_count": 52,
   "id": "fef366c5",
   "metadata": {},
   "outputs": [
    {
     "name": "stdout",
     "output_type": "stream",
     "text": [
      "AUROC in zeroshot\n",
      "0.5949074074074074\n",
      "0.693231922398589\n"
     ]
    }
   ],
   "source": [
    "print(\"AUROC in zeroshot\")\n",
    "calculate_auc_roc(ebv_result, \"Predicted Score\")\n",
    "calculate_auc_roc(ebv_result, \"BigMHC_IM\")"
   ]
  },
  {
   "cell_type": "code",
   "execution_count": 53,
   "id": "9b79c8ee",
   "metadata": {},
   "outputs": [
    {
     "name": "stdout",
     "output_type": "stream",
     "text": [
      "AUPRC in zeroshot\n",
      "0.28499217809843613\n",
      "0.22990229313510374\n"
     ]
    }
   ],
   "source": [
    "print(\"AUPRC in zeroshot\")\n",
    "calculate_auc_prc(ebv_result, \"Predicted Score\")\n",
    "calculate_auc_prc(ebv_result, \"BigMHC_IM\")"
   ]
  },
  {
   "cell_type": "code",
   "execution_count": 54,
   "id": "9be9bd3a",
   "metadata": {},
   "outputs": [
    {
     "name": "stdout",
     "output_type": "stream",
     "text": [
      "F1 score in zeroshot\n",
      "0.14785992217898833\n",
      "0.2702702702702703\n"
     ]
    }
   ],
   "source": [
    "print(\"F1 score in zeroshot\")\n",
    "calculate_f1score(ebv_result, \"Predicted Score\")\n",
    "calculate_f1score(ebv_result, \"BigMHC_IM\")"
   ]
  },
  {
   "cell_type": "code",
   "execution_count": null,
   "id": "720971f6",
   "metadata": {},
   "outputs": [],
   "source": []
  },
  {
   "cell_type": "code",
   "execution_count": null,
   "id": "13b59c25",
   "metadata": {},
   "outputs": [],
   "source": []
  },
  {
   "cell_type": "code",
   "execution_count": null,
   "id": "dce755b9",
   "metadata": {},
   "outputs": [],
   "source": []
  },
  {
   "cell_type": "code",
   "execution_count": null,
   "id": "42f4c04f",
   "metadata": {},
   "outputs": [],
   "source": []
  },
  {
   "cell_type": "code",
   "execution_count": 55,
   "id": "d9a16cec",
   "metadata": {},
   "outputs": [
    {
     "name": "stdout",
     "output_type": "stream",
     "text": [
      "PPV at 10 for Patient 10: {'Predicted Score': 0.5, 'BigMHC_IM': 0.6}\n",
      "PPV at 10 for Patient 11: {'Predicted Score': 0.2, 'BigMHC_IM': 0.2}\n",
      "PPV at 10 for Patient 25: {'Predicted Score': 0.3, 'BigMHC_IM': 0.2}\n",
      "PPV at 10 for Patient 29: {'Predicted Score': 0.4, 'BigMHC_IM': 0.4}\n"
     ]
    }
   ],
   "source": [
    "import pandas as pd\n",
    "import numpy as np\n",
    "\n",
    "# Columns to evaluate predictions\n",
    "prediction_columns = ['Predicted Score', 'BigMHC_IM']\n",
    "\n",
    "# Function to calculate precision at k\n",
    "def calculate_precision_at_k(df, prediction_columns, k):\n",
    "    precision_at_k = {}\n",
    "    for column in prediction_columns:\n",
    "        # Sort by the prediction column\n",
    "        ascending_order = True if 'rank' in column.lower() else False\n",
    "        sorted_df = df.sort_values(by=column, ascending=ascending_order)\n",
    "\n",
    "        # Calculate precision at each k\n",
    "        precisions = []\n",
    "        true_positives = 0\n",
    "        for i in range(k):\n",
    "            if sorted_df.iloc[i]['Label'] == 1:\n",
    "                true_positives += 1\n",
    "            precisions.append(true_positives / (i + 1))\n",
    "\n",
    "        precision_at_k[column] = precisions[-1]  # Get precision at k\n",
    "    return precision_at_k\n",
    "\n",
    "# Evaluate PPV (precision at 10) for each patient\n",
    "top_k = 10\n",
    "ppv_p10 = calculate_precision_at_k(p10, prediction_columns, top_k)\n",
    "ppv_p11 = calculate_precision_at_k(p11, prediction_columns, top_k)\n",
    "ppv_p25 = calculate_precision_at_k(p25, prediction_columns, top_k)\n",
    "ppv_p29 = calculate_precision_at_k(p29, prediction_columns, top_k)\n",
    "\n",
    "# Print results\n",
    "print(f\"PPV at {top_k} for Patient 10: {ppv_p10}\")\n",
    "print(f\"PPV at {top_k} for Patient 11: {ppv_p11}\")\n",
    "print(f\"PPV at {top_k} for Patient 25: {ppv_p25}\")\n",
    "print(f\"PPV at {top_k} for Patient 29: {ppv_p29}\")"
   ]
  }
 ],
 "metadata": {
  "kernelspec": {
   "display_name": "Python 3 (ipykernel)",
   "language": "python",
   "name": "python3"
  },
  "language_info": {
   "codemirror_mode": {
    "name": "ipython",
    "version": 3
   },
   "file_extension": ".py",
   "mimetype": "text/x-python",
   "name": "python",
   "nbconvert_exporter": "python",
   "pygments_lexer": "ipython3",
   "version": "3.7.13"
  }
 },
 "nbformat": 4,
 "nbformat_minor": 5
}
